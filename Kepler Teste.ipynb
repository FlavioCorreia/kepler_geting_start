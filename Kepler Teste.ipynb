{
 "cells": [
  {
   "cell_type": "code",
   "execution_count": null,
   "metadata": {},
   "outputs": [],
   "source": [
    "#CORES INTEGRA\n",
    "rgb(243,104,33); #LARANJA\n",
    "rgb(0,136,37);   #VERDE \n",
    "rgb(0,85,46);   #VERDE ESCURO"
   ]
  },
  {
   "cell_type": "markdown",
   "metadata": {},
   "source": [
    "<link rel=\"stylesheet\" href=\"style.css\">\n",
    "\n",
    "<h1 style=\"color:rgb(243,104,33);text-align:center;font-size:60px;\">Kepler</h1>\n",
    "\n",
    "<h3>Links Uteis</h3>\n",
    "<ul>\n",
    "    <li><a>https://eng.uber.com/keplergl/</a></li>\n",
    "</ul>"
   ]
  },
  {
   "cell_type": "code",
   "execution_count": 38,
   "metadata": {},
   "outputs": [],
   "source": [
    "from IPython.core.display import HTML\n",
    "def css_styling():\n",
    "    styles = open(\"style.css\", \"r\").read()\n",
    "    return HTML(styles)\n",
    "HTML('''<link rel=\"stylesheet\" href=\"style.css\">\n",
    "<style>\n",
    "p {\n",
    "  margin-left: 200px;\n",
    "  \n",
    "}\n",
    "</style>\n",
    "''')\n",
    "css_styling();"
   ]
  },
  {
   "cell_type": "markdown",
   "metadata": {},
   "source": [
    "## GEOJSON\n",
    "https://github.com/tbrugz/geodata-br\n",
    "https://indicadores.integrasus.saude.ce.gov.br/indicadores/indicadores-coronavirus/indice-transparencia"
   ]
  },
  {
   "cell_type": "code",
   "execution_count": 9,
   "metadata": {},
   "outputs": [],
   "source": [
    "import keplergl\n",
    "from keplergl import KeplerGl"
   ]
  },
  {
   "cell_type": "code",
   "execution_count": 122,
   "metadata": {},
   "outputs": [],
   "source": [
    "url = 'Dados/geojs-23-mun.json'"
   ]
  },
  {
   "cell_type": "code",
   "execution_count": 6,
   "metadata": {},
   "outputs": [],
   "source": [
    "def ler_geojson( url ):\n",
    "    with open(url, 'r', encoding='utf-8') as f:\n",
    "        geojson = f.read()\n",
    "        \n",
    "    return geojson"
   ]
  },
  {
   "cell_type": "code",
   "execution_count": 10,
   "metadata": {
    "scrolled": false
   },
   "outputs": [
    {
     "name": "stdout",
     "output_type": "stream",
     "text": [
      "User Guide: https://docs.kepler.gl/docs/keplergl-jupyter\n"
     ]
    },
    {
     "data": {
      "application/vnd.jupyter.widget-view+json": {
       "model_id": "9cb67a48f0e14c14a5a74cb517779055",
       "version_major": 2,
       "version_minor": 0
      },
      "text/plain": [
       "KeplerGl(data={'geojson': '{ \"type\": \"FeatureCollection\", \"features\": [ \\n\\t{ \"type\": \"Feature\", \"properties\":…"
      ]
     },
     "metadata": {},
     "output_type": "display_data"
    }
   ],
   "source": [
    "geojson = ler_geojson( url )\n",
    "map_ = KeplerGl(height=600)\n",
    "map_.add_data(data=geojson, name='geojson')\n",
    "map_"
   ]
  },
  {
   "cell_type": "code",
   "execution_count": 11,
   "metadata": {},
   "outputs": [],
   "source": [
    "import pandas as pd\n",
    "pd.set_option('display.max_columns', None)"
   ]
  },
  {
   "cell_type": "code",
   "execution_count": 12,
   "metadata": {},
   "outputs": [],
   "source": [
    "df = pd.read_csv(\"dados/casos_coronavirus_2021_01_04.csv\", sep = ';', error_bad_lines=False, dtype='unicode')\n",
    "dfF = df.fillna(\"\")"
   ]
  },
  {
   "cell_type": "code",
   "execution_count": 13,
   "metadata": {},
   "outputs": [
    {
     "data": {
      "text/html": [
       "<div>\n",
       "<style scoped>\n",
       "    .dataframe tbody tr th:only-of-type {\n",
       "        vertical-align: middle;\n",
       "    }\n",
       "\n",
       "    .dataframe tbody tr th {\n",
       "        vertical-align: top;\n",
       "    }\n",
       "\n",
       "    .dataframe thead th {\n",
       "        text-align: right;\n",
       "    }\n",
       "</style>\n",
       "<table border=\"1\" class=\"dataframe\">\n",
       "  <thead>\n",
       "    <tr style=\"text-align: right;\">\n",
       "      <th></th>\n",
       "      <th>identificadorCaso</th>\n",
       "      <th>idRedcap</th>\n",
       "      <th>idEsus</th>\n",
       "      <th>idSivep</th>\n",
       "      <th>classificacaoEstadoRedcap</th>\n",
       "      <th>classificacaoEstadoEsus</th>\n",
       "      <th>classificacaoFinalEsus</th>\n",
       "      <th>evolucaoCasoEsus</th>\n",
       "      <th>cboEsus</th>\n",
       "      <th>profissionalSaudeEsus</th>\n",
       "      <th>paisCaso</th>\n",
       "      <th>estadoCaso</th>\n",
       "      <th>codigoMunicipioCaso</th>\n",
       "      <th>municipioCaso</th>\n",
       "      <th>bairroCaso</th>\n",
       "      <th>bairroCasoGeocoder</th>\n",
       "      <th>sexoCaso</th>\n",
       "      <th>idadeCaso</th>\n",
       "      <th>faixaEtaria</th>\n",
       "      <th>dataNascimento</th>\n",
       "      <th>dataNotificacao</th>\n",
       "      <th>dataInicioSintomas</th>\n",
       "      <th>dataSolicitacaoExame</th>\n",
       "      <th>dataColetaExame</th>\n",
       "      <th>dataResultadoExame</th>\n",
       "      <th>resultadoFinalExame</th>\n",
       "      <th>laboratorioExame</th>\n",
       "      <th>classificacaoEstadoSivep</th>\n",
       "      <th>dataInternacaoSivep</th>\n",
       "      <th>dataEntradaUTISivep</th>\n",
       "      <th>dataSaidaUTISivep</th>\n",
       "      <th>evolucaoCasoSivep</th>\n",
       "      <th>dataEvolucaoCasoSivep</th>\n",
       "      <th>comorbidadePuerperaSivep</th>\n",
       "      <th>comorbidadeCardiovascularSivep</th>\n",
       "      <th>comorbidadeHematologiaSivep</th>\n",
       "      <th>comorbidadeSindromeDownSivep</th>\n",
       "      <th>comorbidadeHepaticaSivep</th>\n",
       "      <th>comorbidadeAsmaSivep</th>\n",
       "      <th>comorbidadeDiabetesSivep</th>\n",
       "      <th>comorbidadeNeurologiaSivep</th>\n",
       "      <th>comorbidadePneumopatiaSivep</th>\n",
       "      <th>comorbidadeImunodeficienciaSivep</th>\n",
       "      <th>comorbidadeRenalSivep</th>\n",
       "      <th>comorbidadeObesidadeSivep</th>\n",
       "      <th>comorbidadeHiv</th>\n",
       "      <th>comorbidadeNeoplasias</th>\n",
       "      <th>tipoTesteExame</th>\n",
       "      <th>requisicaoGal</th>\n",
       "      <th>racaCor</th>\n",
       "      <th>dataNotificacaoObito</th>\n",
       "      <th>cnesNotificacaoEsus</th>\n",
       "      <th>municipioNotificacaoEsus</th>\n",
       "      <th>tipoObitoMaterno</th>\n",
       "      <th>classificacaoFinalCasoSivep</th>\n",
       "      <th>gestante</th>\n",
       "      <th>tipoTesteEsus</th>\n",
       "      <th>obitoConfirmado</th>\n",
       "      <th>dataObito</th>\n",
       "      <th>classificacaoObito</th>\n",
       "      <th>localObito</th>\n",
       "      <th>tipoLocalObito</th>\n",
       "    </tr>\n",
       "  </thead>\n",
       "  <tbody>\n",
       "    <tr>\n",
       "      <th>0</th>\n",
       "      <td>0bf656b25fce72db9ff1cb22a334699c</td>\n",
       "      <td></td>\n",
       "      <td></td>\n",
       "      <td></td>\n",
       "      <td></td>\n",
       "      <td></td>\n",
       "      <td></td>\n",
       "      <td></td>\n",
       "      <td></td>\n",
       "      <td></td>\n",
       "      <td></td>\n",
       "      <td>CE</td>\n",
       "      <td>230440</td>\n",
       "      <td>FORTALEZA</td>\n",
       "      <td></td>\n",
       "      <td></td>\n",
       "      <td>MASCULINO</td>\n",
       "      <td>52</td>\n",
       "      <td>50 a 54 anos</td>\n",
       "      <td>1967-08-28</td>\n",
       "      <td></td>\n",
       "      <td>NaT</td>\n",
       "      <td></td>\n",
       "      <td>2020-05-07 00:00:00</td>\n",
       "      <td>2020-05-07 00:00:00</td>\n",
       "      <td>Negativo</td>\n",
       "      <td>HIPOLITO</td>\n",
       "      <td></td>\n",
       "      <td></td>\n",
       "      <td></td>\n",
       "      <td></td>\n",
       "      <td></td>\n",
       "      <td></td>\n",
       "      <td></td>\n",
       "      <td></td>\n",
       "      <td></td>\n",
       "      <td></td>\n",
       "      <td></td>\n",
       "      <td></td>\n",
       "      <td></td>\n",
       "      <td></td>\n",
       "      <td></td>\n",
       "      <td></td>\n",
       "      <td></td>\n",
       "      <td></td>\n",
       "      <td></td>\n",
       "      <td></td>\n",
       "      <td>Teste Rápido</td>\n",
       "      <td></td>\n",
       "      <td></td>\n",
       "      <td></td>\n",
       "      <td></td>\n",
       "      <td></td>\n",
       "      <td></td>\n",
       "      <td></td>\n",
       "      <td></td>\n",
       "      <td></td>\n",
       "      <td></td>\n",
       "      <td></td>\n",
       "      <td></td>\n",
       "      <td></td>\n",
       "      <td></td>\n",
       "    </tr>\n",
       "    <tr>\n",
       "      <th>1</th>\n",
       "      <td>66b89b9f2faa07e4e82ff6a7a38658d7</td>\n",
       "      <td></td>\n",
       "      <td></td>\n",
       "      <td></td>\n",
       "      <td></td>\n",
       "      <td></td>\n",
       "      <td></td>\n",
       "      <td></td>\n",
       "      <td></td>\n",
       "      <td></td>\n",
       "      <td></td>\n",
       "      <td>CE</td>\n",
       "      <td>230440</td>\n",
       "      <td>FORTALEZA</td>\n",
       "      <td></td>\n",
       "      <td></td>\n",
       "      <td>MASCULINO</td>\n",
       "      <td>47</td>\n",
       "      <td>45 a 49 anos</td>\n",
       "      <td>1972-08-20</td>\n",
       "      <td></td>\n",
       "      <td>2020-05-25</td>\n",
       "      <td></td>\n",
       "      <td>2020-05-25 00:00:00</td>\n",
       "      <td>2020-05-29 00:00:00</td>\n",
       "      <td>Negativo</td>\n",
       "      <td>OTOLAB</td>\n",
       "      <td></td>\n",
       "      <td></td>\n",
       "      <td></td>\n",
       "      <td></td>\n",
       "      <td></td>\n",
       "      <td></td>\n",
       "      <td></td>\n",
       "      <td></td>\n",
       "      <td></td>\n",
       "      <td></td>\n",
       "      <td></td>\n",
       "      <td></td>\n",
       "      <td></td>\n",
       "      <td></td>\n",
       "      <td></td>\n",
       "      <td></td>\n",
       "      <td></td>\n",
       "      <td></td>\n",
       "      <td></td>\n",
       "      <td></td>\n",
       "      <td>Quimioluminescência</td>\n",
       "      <td></td>\n",
       "      <td></td>\n",
       "      <td></td>\n",
       "      <td></td>\n",
       "      <td></td>\n",
       "      <td></td>\n",
       "      <td></td>\n",
       "      <td></td>\n",
       "      <td></td>\n",
       "      <td></td>\n",
       "      <td></td>\n",
       "      <td></td>\n",
       "      <td></td>\n",
       "      <td></td>\n",
       "    </tr>\n",
       "    <tr>\n",
       "      <th>2</th>\n",
       "      <td>6e875aac10c7402e7ccef8ed4e23c239</td>\n",
       "      <td></td>\n",
       "      <td>232018703285</td>\n",
       "      <td></td>\n",
       "      <td></td>\n",
       "      <td>Negativo</td>\n",
       "      <td>Descartado</td>\n",
       "      <td>Cura</td>\n",
       "      <td></td>\n",
       "      <td>False</td>\n",
       "      <td></td>\n",
       "      <td>CE</td>\n",
       "      <td>230270</td>\n",
       "      <td>CAMPOS SALES</td>\n",
       "      <td>MONTE CASTELO</td>\n",
       "      <td></td>\n",
       "      <td>FEMININO</td>\n",
       "      <td>48</td>\n",
       "      <td>45 a 49 anos</td>\n",
       "      <td>1972-03-10</td>\n",
       "      <td>2020-08-13 00:00:00</td>\n",
       "      <td>2020-08-07</td>\n",
       "      <td></td>\n",
       "      <td>2020-08-13 00:00:00</td>\n",
       "      <td>2020-08-13 00:00:00</td>\n",
       "      <td>Negativo</td>\n",
       "      <td>ESUS (RT-PCR)</td>\n",
       "      <td></td>\n",
       "      <td></td>\n",
       "      <td></td>\n",
       "      <td></td>\n",
       "      <td></td>\n",
       "      <td></td>\n",
       "      <td></td>\n",
       "      <td></td>\n",
       "      <td></td>\n",
       "      <td></td>\n",
       "      <td></td>\n",
       "      <td></td>\n",
       "      <td></td>\n",
       "      <td></td>\n",
       "      <td></td>\n",
       "      <td></td>\n",
       "      <td></td>\n",
       "      <td></td>\n",
       "      <td></td>\n",
       "      <td></td>\n",
       "      <td>RT-PCR</td>\n",
       "      <td></td>\n",
       "      <td>Parda</td>\n",
       "      <td></td>\n",
       "      <td>6366198</td>\n",
       "      <td>CAMPOS SALES</td>\n",
       "      <td></td>\n",
       "      <td></td>\n",
       "      <td></td>\n",
       "      <td>RT-PCR</td>\n",
       "      <td></td>\n",
       "      <td></td>\n",
       "      <td></td>\n",
       "      <td></td>\n",
       "      <td></td>\n",
       "    </tr>\n",
       "    <tr>\n",
       "      <th>3</th>\n",
       "      <td>1d784b8794d4dd68f5052f1a34ba0e86</td>\n",
       "      <td></td>\n",
       "      <td>232022346803</td>\n",
       "      <td></td>\n",
       "      <td></td>\n",
       "      <td>Positivo</td>\n",
       "      <td>Confirmado Laboratorial</td>\n",
       "      <td>Em tratamento domiciliar</td>\n",
       "      <td></td>\n",
       "      <td>False</td>\n",
       "      <td></td>\n",
       "      <td>CE</td>\n",
       "      <td>231220</td>\n",
       "      <td>SANTA QUITERIA</td>\n",
       "      <td>BOA VIDA</td>\n",
       "      <td></td>\n",
       "      <td>FEMININO</td>\n",
       "      <td>43</td>\n",
       "      <td>40 a 44 anos</td>\n",
       "      <td>1977-03-13</td>\n",
       "      <td>2020-08-26 00:00:00</td>\n",
       "      <td>2020-08-20</td>\n",
       "      <td></td>\n",
       "      <td>2020-08-25 00:00:00</td>\n",
       "      <td>2020-08-25 00:00:00</td>\n",
       "      <td>Positivo</td>\n",
       "      <td>ESUS (RT-PCR)</td>\n",
       "      <td></td>\n",
       "      <td></td>\n",
       "      <td></td>\n",
       "      <td></td>\n",
       "      <td></td>\n",
       "      <td></td>\n",
       "      <td></td>\n",
       "      <td></td>\n",
       "      <td></td>\n",
       "      <td></td>\n",
       "      <td></td>\n",
       "      <td></td>\n",
       "      <td></td>\n",
       "      <td></td>\n",
       "      <td></td>\n",
       "      <td></td>\n",
       "      <td></td>\n",
       "      <td></td>\n",
       "      <td></td>\n",
       "      <td></td>\n",
       "      <td>RT-PCR</td>\n",
       "      <td></td>\n",
       "      <td>Parda</td>\n",
       "      <td></td>\n",
       "      <td>6533000</td>\n",
       "      <td>SANTA QUITERIA</td>\n",
       "      <td></td>\n",
       "      <td></td>\n",
       "      <td></td>\n",
       "      <td>RT-PCR</td>\n",
       "      <td></td>\n",
       "      <td></td>\n",
       "      <td></td>\n",
       "      <td></td>\n",
       "      <td></td>\n",
       "    </tr>\n",
       "    <tr>\n",
       "      <th>4</th>\n",
       "      <td>a7c77c3c848bed8b0db24ca4a8879966</td>\n",
       "      <td></td>\n",
       "      <td>232030998218</td>\n",
       "      <td></td>\n",
       "      <td></td>\n",
       "      <td>Negativo</td>\n",
       "      <td>Descartado</td>\n",
       "      <td>Cura</td>\n",
       "      <td></td>\n",
       "      <td>False</td>\n",
       "      <td></td>\n",
       "      <td>CE</td>\n",
       "      <td>230270</td>\n",
       "      <td>CAMPOS SALES</td>\n",
       "      <td>APARECIDA</td>\n",
       "      <td></td>\n",
       "      <td>MASCULINO</td>\n",
       "      <td>54</td>\n",
       "      <td>50 a 54 anos</td>\n",
       "      <td>1966-08-18</td>\n",
       "      <td>2020-09-29 00:00:00</td>\n",
       "      <td>2020-09-25</td>\n",
       "      <td></td>\n",
       "      <td>2020-09-29 00:00:00</td>\n",
       "      <td>2020-09-29 00:00:00</td>\n",
       "      <td>Negativo</td>\n",
       "      <td>ESUS (RT-PCR)</td>\n",
       "      <td></td>\n",
       "      <td></td>\n",
       "      <td></td>\n",
       "      <td></td>\n",
       "      <td></td>\n",
       "      <td></td>\n",
       "      <td></td>\n",
       "      <td></td>\n",
       "      <td></td>\n",
       "      <td></td>\n",
       "      <td></td>\n",
       "      <td></td>\n",
       "      <td></td>\n",
       "      <td></td>\n",
       "      <td></td>\n",
       "      <td></td>\n",
       "      <td></td>\n",
       "      <td></td>\n",
       "      <td></td>\n",
       "      <td></td>\n",
       "      <td>RT-PCR</td>\n",
       "      <td></td>\n",
       "      <td>Branca</td>\n",
       "      <td></td>\n",
       "      <td>6366198</td>\n",
       "      <td>CAMPOS SALES</td>\n",
       "      <td></td>\n",
       "      <td></td>\n",
       "      <td></td>\n",
       "      <td>RT-PCR</td>\n",
       "      <td></td>\n",
       "      <td></td>\n",
       "      <td></td>\n",
       "      <td></td>\n",
       "      <td></td>\n",
       "    </tr>\n",
       "  </tbody>\n",
       "</table>\n",
       "</div>"
      ],
      "text/plain": [
       "                  identificadorCaso idRedcap        idEsus idSivep  \\\n",
       "0  0bf656b25fce72db9ff1cb22a334699c                                  \n",
       "1  66b89b9f2faa07e4e82ff6a7a38658d7                                  \n",
       "2  6e875aac10c7402e7ccef8ed4e23c239           232018703285           \n",
       "3  1d784b8794d4dd68f5052f1a34ba0e86           232022346803           \n",
       "4  a7c77c3c848bed8b0db24ca4a8879966           232030998218           \n",
       "\n",
       "  classificacaoEstadoRedcap classificacaoEstadoEsus   classificacaoFinalEsus  \\\n",
       "0                                                                              \n",
       "1                                                                              \n",
       "2                                          Negativo               Descartado   \n",
       "3                                          Positivo  Confirmado Laboratorial   \n",
       "4                                          Negativo               Descartado   \n",
       "\n",
       "           evolucaoCasoEsus cboEsus profissionalSaudeEsus paisCaso estadoCaso  \\\n",
       "0                                                                          CE   \n",
       "1                                                                          CE   \n",
       "2                      Cura                         False                  CE   \n",
       "3  Em tratamento domiciliar                         False                  CE   \n",
       "4                      Cura                         False                  CE   \n",
       "\n",
       "  codigoMunicipioCaso   municipioCaso     bairroCaso bairroCasoGeocoder  \\\n",
       "0              230440       FORTALEZA                                     \n",
       "1              230440       FORTALEZA                                     \n",
       "2              230270    CAMPOS SALES  MONTE CASTELO                      \n",
       "3              231220  SANTA QUITERIA       BOA VIDA                      \n",
       "4              230270    CAMPOS SALES      APARECIDA                      \n",
       "\n",
       "    sexoCaso idadeCaso   faixaEtaria dataNascimento      dataNotificacao  \\\n",
       "0  MASCULINO        52  50 a 54 anos     1967-08-28                        \n",
       "1  MASCULINO        47  45 a 49 anos     1972-08-20                        \n",
       "2   FEMININO        48  45 a 49 anos     1972-03-10  2020-08-13 00:00:00   \n",
       "3   FEMININO        43  40 a 44 anos     1977-03-13  2020-08-26 00:00:00   \n",
       "4  MASCULINO        54  50 a 54 anos     1966-08-18  2020-09-29 00:00:00   \n",
       "\n",
       "  dataInicioSintomas dataSolicitacaoExame      dataColetaExame  \\\n",
       "0                NaT                       2020-05-07 00:00:00   \n",
       "1         2020-05-25                       2020-05-25 00:00:00   \n",
       "2         2020-08-07                       2020-08-13 00:00:00   \n",
       "3         2020-08-20                       2020-08-25 00:00:00   \n",
       "4         2020-09-25                       2020-09-29 00:00:00   \n",
       "\n",
       "    dataResultadoExame resultadoFinalExame laboratorioExame  \\\n",
       "0  2020-05-07 00:00:00            Negativo         HIPOLITO   \n",
       "1  2020-05-29 00:00:00            Negativo           OTOLAB   \n",
       "2  2020-08-13 00:00:00            Negativo    ESUS (RT-PCR)   \n",
       "3  2020-08-25 00:00:00            Positivo    ESUS (RT-PCR)   \n",
       "4  2020-09-29 00:00:00            Negativo    ESUS (RT-PCR)   \n",
       "\n",
       "  classificacaoEstadoSivep dataInternacaoSivep dataEntradaUTISivep  \\\n",
       "0                                                                    \n",
       "1                                                                    \n",
       "2                                                                    \n",
       "3                                                                    \n",
       "4                                                                    \n",
       "\n",
       "  dataSaidaUTISivep evolucaoCasoSivep dataEvolucaoCasoSivep  \\\n",
       "0                                                             \n",
       "1                                                             \n",
       "2                                                             \n",
       "3                                                             \n",
       "4                                                             \n",
       "\n",
       "  comorbidadePuerperaSivep comorbidadeCardiovascularSivep  \\\n",
       "0                                                           \n",
       "1                                                           \n",
       "2                                                           \n",
       "3                                                           \n",
       "4                                                           \n",
       "\n",
       "  comorbidadeHematologiaSivep comorbidadeSindromeDownSivep  \\\n",
       "0                                                            \n",
       "1                                                            \n",
       "2                                                            \n",
       "3                                                            \n",
       "4                                                            \n",
       "\n",
       "  comorbidadeHepaticaSivep comorbidadeAsmaSivep comorbidadeDiabetesSivep  \\\n",
       "0                                                                          \n",
       "1                                                                          \n",
       "2                                                                          \n",
       "3                                                                          \n",
       "4                                                                          \n",
       "\n",
       "  comorbidadeNeurologiaSivep comorbidadePneumopatiaSivep  \\\n",
       "0                                                          \n",
       "1                                                          \n",
       "2                                                          \n",
       "3                                                          \n",
       "4                                                          \n",
       "\n",
       "  comorbidadeImunodeficienciaSivep comorbidadeRenalSivep  \\\n",
       "0                                                          \n",
       "1                                                          \n",
       "2                                                          \n",
       "3                                                          \n",
       "4                                                          \n",
       "\n",
       "  comorbidadeObesidadeSivep comorbidadeHiv comorbidadeNeoplasias  \\\n",
       "0                                                                  \n",
       "1                                                                  \n",
       "2                                                                  \n",
       "3                                                                  \n",
       "4                                                                  \n",
       "\n",
       "        tipoTesteExame requisicaoGal racaCor dataNotificacaoObito  \\\n",
       "0         Teste Rápido                                              \n",
       "1  Quimioluminescência                                              \n",
       "2               RT-PCR                 Parda                        \n",
       "3               RT-PCR                 Parda                        \n",
       "4               RT-PCR                Branca                        \n",
       "\n",
       "  cnesNotificacaoEsus municipioNotificacaoEsus tipoObitoMaterno  \\\n",
       "0                                                                 \n",
       "1                                                                 \n",
       "2             6366198             CAMPOS SALES                    \n",
       "3             6533000           SANTA QUITERIA                    \n",
       "4             6366198             CAMPOS SALES                    \n",
       "\n",
       "  classificacaoFinalCasoSivep gestante tipoTesteEsus obitoConfirmado  \\\n",
       "0                                                                      \n",
       "1                                                                      \n",
       "2                                             RT-PCR                   \n",
       "3                                             RT-PCR                   \n",
       "4                                             RT-PCR                   \n",
       "\n",
       "  dataObito classificacaoObito localObito tipoLocalObito  \n",
       "0                                                         \n",
       "1                                                         \n",
       "2                                                         \n",
       "3                                                         \n",
       "4                                                         "
      ]
     },
     "execution_count": 13,
     "metadata": {},
     "output_type": "execute_result"
    }
   ],
   "source": [
    "dfF.head()"
   ]
  },
  {
   "cell_type": "code",
   "execution_count": 14,
   "metadata": {},
   "outputs": [
    {
     "data": {
      "text/plain": [
       "0.17817767774875035"
      ]
     },
     "execution_count": 14,
     "metadata": {},
     "output_type": "execute_result"
    }
   ],
   "source": [
    "dfF.classificacaoEstadoEsus.value_counts().Positivo / len(dfF.classificacaoEstadoEsus)"
   ]
  },
  {
   "cell_type": "code",
   "execution_count": 15,
   "metadata": {},
   "outputs": [
    {
     "data": {
      "text/plain": [
       "['', 'Negativo', 'Positivo', 'Inconclusivo ou Indeterminado']"
      ]
     },
     "execution_count": 15,
     "metadata": {},
     "output_type": "execute_result"
    }
   ],
   "source": [
    "list(dfF.classificacaoEstadoEsus.value_counts().keys())"
   ]
  },
  {
   "cell_type": "code",
   "execution_count": 16,
   "metadata": {},
   "outputs": [
    {
     "data": {
      "text/plain": [
       "                                 739174\n",
       "Negativo                         528115\n",
       "Positivo                         274789\n",
       "Inconclusivo ou Indeterminado       141\n",
       "Name: classificacaoEstadoEsus, dtype: int64"
      ]
     },
     "execution_count": 16,
     "metadata": {},
     "output_type": "execute_result"
    }
   ],
   "source": [
    "dfF.classificacaoEstadoEsus.value_counts()"
   ]
  },
  {
   "cell_type": "markdown",
   "metadata": {},
   "source": [
    "## Codigos Municipios "
   ]
  },
  {
   "cell_type": "code",
   "execution_count": 39,
   "metadata": {},
   "outputs": [
    {
     "data": {
      "text/plain": [
       "184"
      ]
     },
     "execution_count": 39,
     "metadata": {},
     "output_type": "execute_result"
    }
   ],
   "source": [
    "listaCod = list(set(dfF.codigoMunicipioCaso.values)) #CODIGOS DOS MUNICIPIOS\n",
    "listaCod.pop(listaCod.index(\"\")) #REMOVENDO \"\" DOS CODIGOS\n",
    "len(listaCod)"
   ]
  },
  {
   "cell_type": "code",
   "execution_count": 40,
   "metadata": {},
   "outputs": [],
   "source": [
    "#dfG = dfF.groupby(['codigoMunicipioCaso','classificacaoEstadoEsus']).agg({colunaPrincipal: 'sum'})\n",
    "ocorrencias = dfF.groupby(['codigoMunicipioCaso','classificacaoEstadoEsus']).size()"
   ]
  },
  {
   "cell_type": "code",
   "execution_count": 41,
   "metadata": {},
   "outputs": [
    {
     "data": {
      "text/html": [
       "<div>\n",
       "<style scoped>\n",
       "    .dataframe tbody tr th:only-of-type {\n",
       "        vertical-align: middle;\n",
       "    }\n",
       "\n",
       "    .dataframe tbody tr th {\n",
       "        vertical-align: top;\n",
       "    }\n",
       "\n",
       "    .dataframe thead th {\n",
       "        text-align: right;\n",
       "    }\n",
       "</style>\n",
       "<table border=\"1\" class=\"dataframe\">\n",
       "  <thead>\n",
       "    <tr style=\"text-align: right;\">\n",
       "      <th></th>\n",
       "      <th>codigoMunicipioCaso</th>\n",
       "      <th>classificacaoEstadoEsus</th>\n",
       "      <th>qtd</th>\n",
       "    </tr>\n",
       "  </thead>\n",
       "  <tbody>\n",
       "    <tr>\n",
       "      <th>0</th>\n",
       "      <td></td>\n",
       "      <td></td>\n",
       "      <td>40120</td>\n",
       "    </tr>\n",
       "    <tr>\n",
       "      <th>1</th>\n",
       "      <td></td>\n",
       "      <td>Inconclusivo ou Indeterminado</td>\n",
       "      <td>6</td>\n",
       "    </tr>\n",
       "    <tr>\n",
       "      <th>2</th>\n",
       "      <td></td>\n",
       "      <td>Negativo</td>\n",
       "      <td>7179</td>\n",
       "    </tr>\n",
       "    <tr>\n",
       "      <th>3</th>\n",
       "      <td></td>\n",
       "      <td>Positivo</td>\n",
       "      <td>2294</td>\n",
       "    </tr>\n",
       "    <tr>\n",
       "      <th>4</th>\n",
       "      <td>230010</td>\n",
       "      <td></td>\n",
       "      <td>244</td>\n",
       "    </tr>\n",
       "    <tr>\n",
       "      <th>5</th>\n",
       "      <td>230010</td>\n",
       "      <td>Negativo</td>\n",
       "      <td>560</td>\n",
       "    </tr>\n",
       "    <tr>\n",
       "      <th>6</th>\n",
       "      <td>230010</td>\n",
       "      <td>Positivo</td>\n",
       "      <td>151</td>\n",
       "    </tr>\n",
       "    <tr>\n",
       "      <th>7</th>\n",
       "      <td>230015</td>\n",
       "      <td></td>\n",
       "      <td>722</td>\n",
       "    </tr>\n",
       "    <tr>\n",
       "      <th>8</th>\n",
       "      <td>230015</td>\n",
       "      <td>Negativo</td>\n",
       "      <td>1455</td>\n",
       "    </tr>\n",
       "    <tr>\n",
       "      <th>9</th>\n",
       "      <td>230015</td>\n",
       "      <td>Positivo</td>\n",
       "      <td>1789</td>\n",
       "    </tr>\n",
       "  </tbody>\n",
       "</table>\n",
       "</div>"
      ],
      "text/plain": [
       "  codigoMunicipioCaso        classificacaoEstadoEsus    qtd\n",
       "0                                                     40120\n",
       "1                      Inconclusivo ou Indeterminado      6\n",
       "2                                           Negativo   7179\n",
       "3                                           Positivo   2294\n",
       "4              230010                                   244\n",
       "5              230010                       Negativo    560\n",
       "6              230010                       Positivo    151\n",
       "7              230015                                   722\n",
       "8              230015                       Negativo   1455\n",
       "9              230015                       Positivo   1789"
      ]
     },
     "execution_count": 41,
     "metadata": {},
     "output_type": "execute_result"
    }
   ],
   "source": [
    "dfO = ocorrencias.to_frame(name = 'qtd').reset_index()\n",
    "dfO.head(10)"
   ]
  },
  {
   "cell_type": "code",
   "execution_count": 42,
   "metadata": {},
   "outputs": [
    {
     "data": {
      "text/plain": [
       "                                 185\n",
       "Negativo                         185\n",
       "Positivo                         185\n",
       "Inconclusivo ou Indeterminado     45\n",
       "Name: classificacaoEstadoEsus, dtype: int64"
      ]
     },
     "execution_count": 42,
     "metadata": {},
     "output_type": "execute_result"
    }
   ],
   "source": [
    "dfO.classificacaoEstadoEsus.value_counts()"
   ]
  },
  {
   "cell_type": "markdown",
   "metadata": {},
   "source": [
    "## Negativos Positivos e Inconclusivos"
   ]
  },
  {
   "cell_type": "code",
   "execution_count": 113,
   "metadata": {
    "scrolled": true
   },
   "outputs": [],
   "source": [
    "dicAtrib = {}\n",
    "for codMunicipio in listaCod:\n",
    "    dicAtrib[codMunicipio] = {'Inconclusivo ou Indeterminado': 0}\n",
    "\n",
    "for linha in dfO.itertuples():\n",
    "    if linha.codigoMunicipioCaso != \"\" and linha.classificacaoEstadoEsus != \"\" and linha.qtd != \"\":\n",
    "        dicAtrib[linha.codigoMunicipioCaso][linha.classificacaoEstadoEsus] = linha.qtd"
   ]
  },
  {
   "cell_type": "code",
   "execution_count": 114,
   "metadata": {},
   "outputs": [
    {
     "data": {
      "text/plain": [
       "{'Inconclusivo ou Indeterminado': 5, 'Negativo': 10895, 'Positivo': 8638}"
      ]
     },
     "execution_count": 114,
     "metadata": {},
     "output_type": "execute_result"
    }
   ],
   "source": [
    "dicAtrib['230765']"
   ]
  },
  {
   "cell_type": "markdown",
   "metadata": {},
   "source": [
    "## Latitude e Longitude"
   ]
  },
  {
   "cell_type": "code",
   "execution_count": 123,
   "metadata": {},
   "outputs": [
    {
     "data": {
      "text/html": [
       "<div>\n",
       "<style scoped>\n",
       "    .dataframe tbody tr th:only-of-type {\n",
       "        vertical-align: middle;\n",
       "    }\n",
       "\n",
       "    .dataframe tbody tr th {\n",
       "        vertical-align: top;\n",
       "    }\n",
       "\n",
       "    .dataframe thead th {\n",
       "        text-align: right;\n",
       "    }\n",
       "</style>\n",
       "<table border=\"1\" class=\"dataframe\">\n",
       "  <thead>\n",
       "    <tr style=\"text-align: right;\">\n",
       "      <th></th>\n",
       "      <th>codigo_ibge</th>\n",
       "      <th>nome</th>\n",
       "      <th>latitude</th>\n",
       "      <th>longitude</th>\n",
       "      <th>capital</th>\n",
       "      <th>codigo_uf</th>\n",
       "    </tr>\n",
       "  </thead>\n",
       "  <tbody>\n",
       "    <tr>\n",
       "      <th>0</th>\n",
       "      <td>5200050</td>\n",
       "      <td>Abadia de Goiás</td>\n",
       "      <td>-16.7573</td>\n",
       "      <td>-49.4412</td>\n",
       "      <td>0</td>\n",
       "      <td>52</td>\n",
       "    </tr>\n",
       "    <tr>\n",
       "      <th>1</th>\n",
       "      <td>3100104</td>\n",
       "      <td>Abadia dos Dourados</td>\n",
       "      <td>-18.4831</td>\n",
       "      <td>-47.3916</td>\n",
       "      <td>0</td>\n",
       "      <td>31</td>\n",
       "    </tr>\n",
       "    <tr>\n",
       "      <th>2</th>\n",
       "      <td>5200100</td>\n",
       "      <td>Abadiânia</td>\n",
       "      <td>-16.1970</td>\n",
       "      <td>-48.7057</td>\n",
       "      <td>0</td>\n",
       "      <td>52</td>\n",
       "    </tr>\n",
       "  </tbody>\n",
       "</table>\n",
       "</div>"
      ],
      "text/plain": [
       "   codigo_ibge                 nome  latitude  longitude  capital  codigo_uf\n",
       "0      5200050      Abadia de Goiás  -16.7573   -49.4412        0         52\n",
       "1      3100104  Abadia dos Dourados  -18.4831   -47.3916        0         31\n",
       "2      5200100            Abadiânia  -16.1970   -48.7057        0         52"
      ]
     },
     "execution_count": 123,
     "metadata": {},
     "output_type": "execute_result"
    }
   ],
   "source": [
    "urlLatLong = \"Dados/municipiosLatLong.csv\"\n",
    "dfLL = pd.read_csv(urlLatLong)\n",
    "dfLL.head(3)"
   ]
  },
  {
   "cell_type": "code",
   "execution_count": 116,
   "metadata": {
    "scrolled": true
   },
   "outputs": [
    {
     "data": {
      "text/html": [
       "<div>\n",
       "<style scoped>\n",
       "    .dataframe tbody tr th:only-of-type {\n",
       "        vertical-align: middle;\n",
       "    }\n",
       "\n",
       "    .dataframe tbody tr th {\n",
       "        vertical-align: top;\n",
       "    }\n",
       "\n",
       "    .dataframe thead th {\n",
       "        text-align: right;\n",
       "    }\n",
       "</style>\n",
       "<table border=\"1\" class=\"dataframe\">\n",
       "  <thead>\n",
       "    <tr style=\"text-align: right;\">\n",
       "      <th></th>\n",
       "      <th>codigo_ibge</th>\n",
       "      <th>nome</th>\n",
       "      <th>latitude</th>\n",
       "      <th>longitude</th>\n",
       "      <th>capital</th>\n",
       "      <th>codigo_uf</th>\n",
       "    </tr>\n",
       "  </thead>\n",
       "  <tbody>\n",
       "    <tr>\n",
       "      <th>5</th>\n",
       "      <td>2300101</td>\n",
       "      <td>Abaiara</td>\n",
       "      <td>-7.34588</td>\n",
       "      <td>-39.0416</td>\n",
       "      <td>0</td>\n",
       "      <td>23</td>\n",
       "    </tr>\n",
       "    <tr>\n",
       "      <th>19</th>\n",
       "      <td>2300150</td>\n",
       "      <td>Acarape</td>\n",
       "      <td>-4.22083</td>\n",
       "      <td>-38.7055</td>\n",
       "      <td>0</td>\n",
       "      <td>23</td>\n",
       "    </tr>\n",
       "    <tr>\n",
       "      <th>20</th>\n",
       "      <td>2300200</td>\n",
       "      <td>Acaraú</td>\n",
       "      <td>-2.88769</td>\n",
       "      <td>-40.1183</td>\n",
       "      <td>0</td>\n",
       "      <td>23</td>\n",
       "    </tr>\n",
       "  </tbody>\n",
       "</table>\n",
       "</div>"
      ],
      "text/plain": [
       "    codigo_ibge     nome  latitude  longitude  capital  codigo_uf\n",
       "5       2300101  Abaiara  -7.34588   -39.0416        0         23\n",
       "19      2300150  Acarape  -4.22083   -38.7055        0         23\n",
       "20      2300200   Acaraú  -2.88769   -40.1183        0         23"
      ]
     },
     "execution_count": 116,
     "metadata": {},
     "output_type": "execute_result"
    }
   ],
   "source": [
    "dfLLCe = dfLL[dfLL.codigo_uf == 23 ] #23 => CEARA\n",
    "dfLLCe.head(3)"
   ]
  },
  {
   "cell_type": "code",
   "execution_count": 118,
   "metadata": {},
   "outputs": [],
   "source": [
    "for linha in dfLLCe.itertuples():\n",
    "    dicAtrib[str(linha.codigo_ibge)[:-1]].update({'latitude': linha.latitude, 'longitude': linha.longitude}) "
   ]
  },
  {
   "cell_type": "code",
   "execution_count": 119,
   "metadata": {},
   "outputs": [
    {
     "data": {
      "text/plain": [
       "{'Inconclusivo ou Indeterminado': 5,\n",
       " 'Negativo': 10895,\n",
       " 'Positivo': 8638,\n",
       " 'latitude': -3.86699,\n",
       " 'longitude': -38.6259}"
      ]
     },
     "execution_count": 119,
     "metadata": {},
     "output_type": "execute_result"
    }
   ],
   "source": [
    "dicAtrib['230765']"
   ]
  },
  {
   "cell_type": "markdown",
   "metadata": {},
   "source": [
    "## Adicionando Informações ao JSON"
   ]
  },
  {
   "cell_type": "code",
   "execution_count": 124,
   "metadata": {},
   "outputs": [],
   "source": [
    "import geojson\n",
    "with open(url, 'r', encoding='utf-8') as f:\n",
    "    jsonMod = geojson.load(f)"
   ]
  },
  {
   "cell_type": "code",
   "execution_count": 125,
   "metadata": {},
   "outputs": [
    {
     "data": {
      "text/plain": [
       "{'id': '2300101', 'name': 'Abaiara', 'description': 'Abaiara'}"
      ]
     },
     "execution_count": 125,
     "metadata": {},
     "output_type": "execute_result"
    }
   ],
   "source": [
    "jsonMod[\"features\"][0][\"properties\"]"
   ]
  },
  {
   "cell_type": "code",
   "execution_count": 126,
   "metadata": {},
   "outputs": [],
   "source": [
    "for i in range(len(jsonMod[\"features\"])):\n",
    "    idCidade = jsonMod[\"features\"][i][\"properties\"][\"id\"][:-1]\n",
    "    jsonMod[\"features\"][i][\"properties\"].pop('description')\n",
    "    jsonMod[\"features\"][i][\"properties\"].update(dicAtrib[idCidade]) #ATUALIZA O DICIONARIO"
   ]
  },
  {
   "cell_type": "code",
   "execution_count": 127,
   "metadata": {},
   "outputs": [
    {
     "data": {
      "text/plain": [
       "{'id': '2300101',\n",
       " 'name': 'Abaiara',\n",
       " 'Inconclusivo ou Indeterminado': 0,\n",
       " 'Negativo': 560,\n",
       " 'Positivo': 151,\n",
       " 'latitude': -7.34588,\n",
       " 'longitude': -39.0416}"
      ]
     },
     "execution_count": 127,
     "metadata": {},
     "output_type": "execute_result"
    }
   ],
   "source": [
    "jsonMod[\"features\"][0][\"properties\"]"
   ]
  },
  {
   "cell_type": "markdown",
   "metadata": {},
   "source": [
    "### Salvando Json Modificado "
   ]
  },
  {
   "cell_type": "code",
   "execution_count": 128,
   "metadata": {},
   "outputs": [],
   "source": [
    "urlS = 'Dados/geojs-23-mun-editado.json'\n",
    "with open(urlS, 'w') as f:\n",
    "   geojson.dump(jsonMod, f)"
   ]
  },
  {
   "cell_type": "markdown",
   "metadata": {},
   "source": [
    "## Visualização Municípios"
   ]
  },
  {
   "cell_type": "code",
   "execution_count": 173,
   "metadata": {},
   "outputs": [],
   "source": [
    "urlS = 'Dados/geojs-23-mun-editado.json'\n",
    "geojsonMun = ler_geojson( urlS )"
   ]
  },
  {
   "cell_type": "code",
   "execution_count": 194,
   "metadata": {
    "scrolled": false
   },
   "outputs": [
    {
     "name": "stdout",
     "output_type": "stream",
     "text": [
      "User Guide: https://docs.kepler.gl/docs/keplergl-jupyter\n"
     ]
    }
   ],
   "source": [
    "map_2 = KeplerGl(height=800)\n",
    "map_2.add_data(data=geojsonMun, name='geojsonMunCE')"
   ]
  },
  {
   "cell_type": "markdown",
   "metadata": {},
   "source": [
    "## Fronteira Estado do Ceará"
   ]
  },
  {
   "cell_type": "code",
   "execution_count": 175,
   "metadata": {},
   "outputs": [],
   "source": [
    "urlCE = \"Dados/CE.geojson.json\"\n",
    "geojsonCE = ler_geojson( urlCE )"
   ]
  },
  {
   "cell_type": "code",
   "execution_count": 215,
   "metadata": {
    "scrolled": false
   },
   "outputs": [
    {
     "data": {
      "application/vnd.jupyter.widget-view+json": {
       "model_id": "f4d5336f075b49909eea4cf87d2c6b7d",
       "version_major": 2,
       "version_minor": 0
      },
      "text/plain": [
       "KeplerGl(config={'version': 'v1', 'config': {'visState': {'filters': [], 'layers': [{'id': 'n0iw9np', 'type': …"
      ]
     },
     "metadata": {},
     "output_type": "display_data"
    }
   ],
   "source": [
    "map_2.add_data(data=geojsonCE, name='geojsonEstadoCE')\n",
    "map_2.config = config2\n",
    "map_2"
   ]
  },
  {
   "cell_type": "markdown",
   "metadata": {},
   "source": [
    "## Salvando Como HTML Editavel"
   ]
  },
  {
   "cell_type": "code",
   "execution_count": 139,
   "metadata": {},
   "outputs": [
    {
     "name": "stdout",
     "output_type": "stream",
     "text": [
      "Map saved to first_map.html!\n"
     ]
    }
   ],
   "source": [
    "map_2.save_to_html(file_name='first_map.html')"
   ]
  },
  {
   "cell_type": "markdown",
   "metadata": {},
   "source": [
    "## Salvando Como HTML Somente Leitura"
   ]
  },
  {
   "cell_type": "code",
   "execution_count": 140,
   "metadata": {},
   "outputs": [
    {
     "name": "stdout",
     "output_type": "stream",
     "text": [
      "Map saved to first_map_only_read.html!\n"
     ]
    }
   ],
   "source": [
    "map_2.save_to_html(file_name='first_map_only_read.html', read_only=True)"
   ]
  },
  {
   "cell_type": "code",
   "execution_count": 177,
   "metadata": {},
   "outputs": [],
   "source": [
    "#config2 = map_2.config.copy()"
   ]
  },
  {
   "cell_type": "markdown",
   "metadata": {},
   "source": [
    "# Novos Estilos de Mapa"
   ]
  },
  {
   "cell_type": "code",
   "execution_count": 216,
   "metadata": {},
   "outputs": [
    {
     "name": "stdout",
     "output_type": "stream",
     "text": [
      "User Guide: https://docs.kepler.gl/docs/keplergl-jupyter\n"
     ]
    },
    {
     "data": {
      "application/vnd.jupyter.widget-view+json": {
       "model_id": "3480eac5b6b04a62a62154e9819f683f",
       "version_major": 2,
       "version_minor": 0
      },
      "text/plain": [
       "KeplerGl(config={'version': 'v1', 'config': {'visState': {'filters': [], 'layers': [{'id': 'n0iw9np', 'type': …"
      ]
     },
     "metadata": {},
     "output_type": "display_data"
    }
   ],
   "source": [
    "map_3 = KeplerGl(height=600)\n",
    "map_3.add_data(data=geojsonMun, name='geojsonMunCE')\n",
    "map_3.config = config3\n",
    "map_3"
   ]
  },
  {
   "cell_type": "code",
   "execution_count": 183,
   "metadata": {},
   "outputs": [],
   "source": [
    "#config3 = map_3.config"
   ]
  },
  {
   "cell_type": "code",
   "execution_count": 217,
   "metadata": {},
   "outputs": [
    {
     "name": "stdout",
     "output_type": "stream",
     "text": [
      "User Guide: https://docs.kepler.gl/docs/keplergl-jupyter\n"
     ]
    },
    {
     "data": {
      "application/vnd.jupyter.widget-view+json": {
       "model_id": "30fa12b12aed43d688f1bd0269767e8b",
       "version_major": 2,
       "version_minor": 0
      },
      "text/plain": [
       "KeplerGl(config={'version': 'v1', 'config': {'visState': {'filters': [], 'layers': [{'id': 'n0iw9np', 'type': …"
      ]
     },
     "metadata": {},
     "output_type": "display_data"
    }
   ],
   "source": [
    "map_4 = KeplerGl(height=600)\n",
    "map_4.add_data(data=geojsonMun, name='geojsonMunCE')\n",
    "map_4.config = config4\n",
    "map_4"
   ]
  },
  {
   "cell_type": "code",
   "execution_count": 180,
   "metadata": {},
   "outputs": [],
   "source": [
    "#config4 = map_4.config"
   ]
  },
  {
   "cell_type": "code",
   "execution_count": 200,
   "metadata": {},
   "outputs": [
    {
     "name": "stdout",
     "output_type": "stream",
     "text": [
      "User Guide: https://docs.kepler.gl/docs/keplergl-jupyter\n"
     ]
    },
    {
     "data": {
      "application/vnd.jupyter.widget-view+json": {
       "model_id": "f711bc42ea4f41c084dd08e78062a4f0",
       "version_major": 2,
       "version_minor": 0
      },
      "text/plain": [
       "KeplerGl(config={'version': 'v1', 'config': {'visState': {'filters': [], 'layers': [{'id': 'n0iw9np', 'type': …"
      ]
     },
     "metadata": {},
     "output_type": "display_data"
    }
   ],
   "source": [
    "map_5 = KeplerGl(height=600)\n",
    "map_5.add_data(data=geojsonMun, name='geojsonMunCE')\n",
    "map_5.config = config5\n",
    "map_5"
   ]
  },
  {
   "cell_type": "code",
   "execution_count": 199,
   "metadata": {},
   "outputs": [],
   "source": [
    "#config5 = map_5.config"
   ]
  },
  {
   "cell_type": "code",
   "execution_count": 201,
   "metadata": {},
   "outputs": [
    {
     "name": "stdout",
     "output_type": "stream",
     "text": [
      "User Guide: https://docs.kepler.gl/docs/keplergl-jupyter\n"
     ]
    },
    {
     "data": {
      "application/vnd.jupyter.widget-view+json": {
       "model_id": "3bcbe8fcf93a48e6b6843762dc365580",
       "version_major": 2,
       "version_minor": 0
      },
      "text/plain": [
       "KeplerGl(config={'version': 'v1', 'config': {'visState': {'filters': [], 'layers': [{'id': 'n0iw9np', 'type': …"
      ]
     },
     "metadata": {},
     "output_type": "display_data"
    }
   ],
   "source": [
    "map_6 = KeplerGl(height=600)\n",
    "map_6.add_data(data=geojsonMun, name='geojsonMunCE')\n",
    "map_6.config = config5\n",
    "map_6"
   ]
  },
  {
   "cell_type": "code",
   "execution_count": 214,
   "metadata": {},
   "outputs": [
    {
     "name": "stdout",
     "output_type": "stream",
     "text": [
      "User Guide: https://docs.kepler.gl/docs/keplergl-jupyter\n"
     ]
    },
    {
     "data": {
      "application/vnd.jupyter.widget-view+json": {
       "model_id": "f9bb40ed98c049ab8eb6e3f762c5c700",
       "version_major": 2,
       "version_minor": 0
      },
      "text/plain": [
       "KeplerGl(config={'version': 'v1', 'config': {'visState': {'filters': [], 'layers': [], 'interactionConfig': {'…"
      ]
     },
     "metadata": {},
     "output_type": "display_data"
    }
   ],
   "source": [
    "map_10 = KeplerGl(height=600)\n",
    "map_10.config = config10\n",
    "map_10"
   ]
  },
  {
   "cell_type": "code",
   "execution_count": 213,
   "metadata": {},
   "outputs": [],
   "source": [
    "config10 = map_10.config"
   ]
  },
  {
   "cell_type": "code",
   "execution_count": null,
   "metadata": {},
   "outputs": [],
   "source": []
  },
  {
   "cell_type": "code",
   "execution_count": null,
   "metadata": {},
   "outputs": [],
   "source": []
  },
  {
   "cell_type": "code",
   "execution_count": null,
   "metadata": {},
   "outputs": [],
   "source": []
  },
  {
   "cell_type": "code",
   "execution_count": null,
   "metadata": {},
   "outputs": [],
   "source": []
  },
  {
   "cell_type": "code",
   "execution_count": 189,
   "metadata": {},
   "outputs": [
    {
     "data": {
      "text/plain": [
       "\"{'version': 'v1', 'config': {'visState': {'filters': [], 'layers': [{'id': 'n0iw9np', 'type': 'point', 'config': {'dataId': 'geojsonMunCE', 'label': 'Point', 'color': [241, 92, 23], 'columns': {'lat': 'latitude', 'lng': 'longitude', 'altitude': None}, 'isVisible': False, 'visConfig': {'radius': 5.7, 'fixedRadius': False, 'opacity': 0.8, 'outline': False, 'thickness': 2, 'strokeColor': None, 'colorRange': {'name': 'Global Warming', 'type': 'sequential', 'category': 'Uber', 'colors': ['#5A1846', '#900C3F', '#C70039', '#E3611C', '#F1920E', '#FFC300']}, 'strokeColorRange': {'name': 'Global Warming', 'type': 'sequential', 'category': 'Uber', 'colors': ['#5A1846', '#900C3F', '#C70039', '#E3611C', '#F1920E', '#FFC300']}, 'radiusRange': [0, 50], 'filled': True}, 'hidden': False, 'textLabel': [{'field': None, 'color': [255, 255, 255], 'size': 18, 'offset': [0, 0], 'anchor': 'start', 'alignment': 'center'}]}, 'visualChannels': {'colorField': None, 'colorScale': 'quantile', 'strokeColorField': None, 'strokeColorScale': 'quantile', 'sizeField': None, 'sizeScale': 'linear'}}, {'id': 'u4o2v6j', 'type': 'geojson', 'config': {'dataId': 'geojsonMunCE', 'label': 'geojsonMunCE', 'color': [254, 179, 26], 'columns': {'geojson': '_geojson'}, 'isVisible': True, 'visConfig': {'opacity': 0.01, 'strokeOpacity': 0.8, 'thickness': 0.5, 'strokeColor': [239, 248, 239], 'colorRange': {'name': 'Global Warming', 'type': 'sequential', 'category': 'Uber', 'colors': ['#5A1846', '#900C3F', '#C70039', '#E3611C', '#F1920E', '#FFC300']}, 'strokeColorRange': {'name': 'Global Warming', 'type': 'sequential', 'category': 'Uber', 'colors': ['#5A1846', '#900C3F', '#C70039', '#E3611C', '#F1920E', '#FFC300']}, 'radius': 10, 'sizeRange': [0, 10], 'radiusRange': [0, 50], 'heightRange': [0, 500], 'elevationScale': 5, 'stroked': True, 'filled': True, 'enable3d': False, 'wireframe': False}, 'hidden': False, 'textLabel': [{'field': None, 'color': [255, 255, 255], 'size': 18, 'offset': [0, 0], 'anchor': 'start', 'alignment': 'center'}]}, 'visualChannels': {'colorField': None, 'colorScale': 'quantile', 'sizeField': None, 'sizeScale': 'linear', 'strokeColorField': None, 'strokeColorScale': 'quantile', 'heightField': None, 'heightScale': 'linear', 'radiusField': None, 'radiusScale': 'linear'}}, {'id': '1j5536p', 'type': 'grid', 'config': {'dataId': 'geojsonMunCE', 'label': 'PontosCalor', 'color': [255, 190, 51], 'columns': {'lat': 'latitude', 'lng': 'longitude'}, 'isVisible': True, 'visConfig': {'opacity': 0.8, 'worldUnitSize': 4.4, 'colorRange': {'name': 'ColorBrewer YlOrRd-6', 'type': 'sequential', 'category': 'ColorBrewer', 'colors': ['#ffffb2', '#fed976', '#feb24c', '#fd8d3c', '#f03b20', '#bd0026']}, 'coverage': 1, 'sizeRange': [0, 500], 'percentile': [0, 100], 'elevationPercentile': [0, 100], 'elevationScale': 25.2, 'colorAggregation': 'maximum', 'sizeAggregation': 'count', 'enable3d': True}, 'hidden': False, 'textLabel': [{'field': None, 'color': [255, 255, 255], 'size': 18, 'offset': [0, 0], 'anchor': 'start', 'alignment': 'center'}]}, 'visualChannels': {'colorField': {'name': 'Positivo', 'type': 'integer'}, 'colorScale': 'quantile', 'sizeField': None, 'sizeScale': 'linear'}}], 'interactionConfig': {'tooltip': {'fieldsToShow': {'geojsonMunCE': [{'name': 'name', 'format': None}]}, 'compareMode': False, 'compareType': 'absolute', 'enabled': True}, 'brush': {'size': 1.3, 'enabled': False}, 'geocoder': {'enabled': True}, 'coordinate': {'enabled': False}}, 'layerBlending': 'normal', 'splitMaps': [], 'animationConfig': {'currentTime': None, 'speed': 1}}, 'mapState': {'bearing': 24, 'dragRotate': True, 'latitude': -5.4864233173589705, 'longitude': -39.353462021912925, 'pitch': 50, 'zoom': 6.519410830830477, 'isSplit': False}, 'mapStyle': {'styleType': 'dark', 'topLayerGroups': {}, 'visibleLayerGroups': {'label': True, 'road': True, 'border': False, 'building': True, 'water': True, 'land': True, '3d building': False}, 'threeDBuildingColor': [9.665468314072013, 17.18305478057247, 31.1442867897876], 'mapStyles': {}}}}\""
      ]
     },
     "execution_count": 189,
     "metadata": {},
     "output_type": "execute_result"
    }
   ],
   "source": []
  },
  {
   "cell_type": "code",
   "execution_count": 190,
   "metadata": {},
   "outputs": [],
   "source": [
    "def saveConfig(config, config_id):\n",
    "    f = open(\"config/config\"+str(config_id)+\".txt\", \"w\")\n",
    "    f.write(str(config))\n",
    "    f.close()"
   ]
  },
  {
   "cell_type": "code",
   "execution_count": 192,
   "metadata": {},
   "outputs": [],
   "source": [
    "saveConfig(config3, 3)"
   ]
  },
  {
   "cell_type": "code",
   "execution_count": 181,
   "metadata": {
    "collapsed": true
   },
   "outputs": [
    {
     "data": {
      "text/plain": [
       "{'version': 'v1',\n",
       " 'config': {'visState': {'filters': [],\n",
       "   'layers': [{'id': 'n0iw9np',\n",
       "     'type': 'point',\n",
       "     'config': {'dataId': 'geojsonMunCE',\n",
       "      'label': 'Point',\n",
       "      'color': [241, 92, 23],\n",
       "      'columns': {'lat': 'latitude', 'lng': 'longitude', 'altitude': None},\n",
       "      'isVisible': False,\n",
       "      'visConfig': {'radius': 5.7,\n",
       "       'fixedRadius': False,\n",
       "       'opacity': 0.8,\n",
       "       'outline': False,\n",
       "       'thickness': 2,\n",
       "       'strokeColor': None,\n",
       "       'colorRange': {'name': 'Global Warming',\n",
       "        'type': 'sequential',\n",
       "        'category': 'Uber',\n",
       "        'colors': ['#5A1846',\n",
       "         '#900C3F',\n",
       "         '#C70039',\n",
       "         '#E3611C',\n",
       "         '#F1920E',\n",
       "         '#FFC300']},\n",
       "       'strokeColorRange': {'name': 'Global Warming',\n",
       "        'type': 'sequential',\n",
       "        'category': 'Uber',\n",
       "        'colors': ['#5A1846',\n",
       "         '#900C3F',\n",
       "         '#C70039',\n",
       "         '#E3611C',\n",
       "         '#F1920E',\n",
       "         '#FFC300']},\n",
       "       'radiusRange': [0, 50],\n",
       "       'filled': True},\n",
       "      'hidden': False,\n",
       "      'textLabel': [{'field': None,\n",
       "        'color': [255, 255, 255],\n",
       "        'size': 18,\n",
       "        'offset': [0, 0],\n",
       "        'anchor': 'start',\n",
       "        'alignment': 'center'}]},\n",
       "     'visualChannels': {'colorField': None,\n",
       "      'colorScale': 'quantile',\n",
       "      'strokeColorField': None,\n",
       "      'strokeColorScale': 'quantile',\n",
       "      'sizeField': None,\n",
       "      'sizeScale': 'linear'}},\n",
       "    {'id': 'u4o2v6j',\n",
       "     'type': 'geojson',\n",
       "     'config': {'dataId': 'geojsonMunCE',\n",
       "      'label': 'geojsonMunCE',\n",
       "      'color': [254, 179, 26],\n",
       "      'columns': {'geojson': '_geojson'},\n",
       "      'isVisible': True,\n",
       "      'visConfig': {'opacity': 0.01,\n",
       "       'strokeOpacity': 0.8,\n",
       "       'thickness': 0.5,\n",
       "       'strokeColor': [239, 248, 239],\n",
       "       'colorRange': {'name': 'Global Warming',\n",
       "        'type': 'sequential',\n",
       "        'category': 'Uber',\n",
       "        'colors': ['#5A1846',\n",
       "         '#900C3F',\n",
       "         '#C70039',\n",
       "         '#E3611C',\n",
       "         '#F1920E',\n",
       "         '#FFC300']},\n",
       "       'strokeColorRange': {'name': 'Global Warming',\n",
       "        'type': 'sequential',\n",
       "        'category': 'Uber',\n",
       "        'colors': ['#5A1846',\n",
       "         '#900C3F',\n",
       "         '#C70039',\n",
       "         '#E3611C',\n",
       "         '#F1920E',\n",
       "         '#FFC300']},\n",
       "       'radius': 10,\n",
       "       'sizeRange': [0, 10],\n",
       "       'radiusRange': [0, 50],\n",
       "       'heightRange': [0, 500],\n",
       "       'elevationScale': 5,\n",
       "       'stroked': True,\n",
       "       'filled': True,\n",
       "       'enable3d': False,\n",
       "       'wireframe': False},\n",
       "      'hidden': False,\n",
       "      'textLabel': [{'field': None,\n",
       "        'color': [255, 255, 255],\n",
       "        'size': 18,\n",
       "        'offset': [0, 0],\n",
       "        'anchor': 'start',\n",
       "        'alignment': 'center'}]},\n",
       "     'visualChannels': {'colorField': None,\n",
       "      'colorScale': 'quantile',\n",
       "      'sizeField': None,\n",
       "      'sizeScale': 'linear',\n",
       "      'strokeColorField': None,\n",
       "      'strokeColorScale': 'quantile',\n",
       "      'heightField': None,\n",
       "      'heightScale': 'linear',\n",
       "      'radiusField': None,\n",
       "      'radiusScale': 'linear'}},\n",
       "    {'id': '1j5536p',\n",
       "     'type': 'grid',\n",
       "     'config': {'dataId': 'geojsonMunCE',\n",
       "      'label': 'PontosCalor',\n",
       "      'color': [255, 190, 51],\n",
       "      'columns': {'lat': 'latitude', 'lng': 'longitude'},\n",
       "      'isVisible': True,\n",
       "      'visConfig': {'opacity': 0.8,\n",
       "       'worldUnitSize': 4.4,\n",
       "       'colorRange': {'name': 'ColorBrewer YlOrRd-6',\n",
       "        'type': 'sequential',\n",
       "        'category': 'ColorBrewer',\n",
       "        'colors': ['#ffffb2',\n",
       "         '#fed976',\n",
       "         '#feb24c',\n",
       "         '#fd8d3c',\n",
       "         '#f03b20',\n",
       "         '#bd0026']},\n",
       "       'coverage': 1,\n",
       "       'sizeRange': [0, 500],\n",
       "       'percentile': [0, 100],\n",
       "       'elevationPercentile': [0, 100],\n",
       "       'elevationScale': 25.2,\n",
       "       'colorAggregation': 'maximum',\n",
       "       'sizeAggregation': 'count',\n",
       "       'enable3d': True},\n",
       "      'hidden': False,\n",
       "      'textLabel': [{'field': None,\n",
       "        'color': [255, 255, 255],\n",
       "        'size': 18,\n",
       "        'offset': [0, 0],\n",
       "        'anchor': 'start',\n",
       "        'alignment': 'center'}]},\n",
       "     'visualChannels': {'colorField': {'name': 'Positivo', 'type': 'integer'},\n",
       "      'colorScale': 'quantile',\n",
       "      'sizeField': None,\n",
       "      'sizeScale': 'linear'}}],\n",
       "   'interactionConfig': {'tooltip': {'fieldsToShow': {'geojsonMunCE': [{'name': 'name',\n",
       "        'format': None}]},\n",
       "     'compareMode': False,\n",
       "     'compareType': 'absolute',\n",
       "     'enabled': True},\n",
       "    'brush': {'size': 1.3, 'enabled': False},\n",
       "    'geocoder': {'enabled': True},\n",
       "    'coordinate': {'enabled': False}},\n",
       "   'layerBlending': 'normal',\n",
       "   'splitMaps': [],\n",
       "   'animationConfig': {'currentTime': None, 'speed': 1}},\n",
       "  'mapState': {'bearing': 24,\n",
       "   'dragRotate': True,\n",
       "   'latitude': -5.4864233173589705,\n",
       "   'longitude': -39.353462021912925,\n",
       "   'pitch': 50,\n",
       "   'zoom': 6.519410830830477,\n",
       "   'isSplit': False},\n",
       "  'mapStyle': {'styleType': 'dark',\n",
       "   'topLayerGroups': {},\n",
       "   'visibleLayerGroups': {'label': True,\n",
       "    'road': True,\n",
       "    'border': False,\n",
       "    'building': True,\n",
       "    'water': True,\n",
       "    'land': True,\n",
       "    '3d building': False},\n",
       "   'threeDBuildingColor': [9.665468314072013,\n",
       "    17.18305478057247,\n",
       "    31.1442867897876],\n",
       "   'mapStyles': {}}}}"
      ]
     },
     "execution_count": 181,
     "metadata": {},
     "output_type": "execute_result"
    }
   ],
   "source": [
    "config4 #BARRAS VERTICAIS"
   ]
  },
  {
   "cell_type": "code",
   "execution_count": 184,
   "metadata": {
    "collapsed": true
   },
   "outputs": [
    {
     "data": {
      "text/plain": [
       "{'version': 'v1',\n",
       " 'config': {'visState': {'filters': [],\n",
       "   'layers': [{'id': 'n0iw9np',\n",
       "     'type': 'point',\n",
       "     'config': {'dataId': 'geojsonMunCE',\n",
       "      'label': 'Point',\n",
       "      'color': [241, 92, 23],\n",
       "      'columns': {'lat': 'latitude', 'lng': 'longitude', 'altitude': None},\n",
       "      'isVisible': False,\n",
       "      'visConfig': {'radius': 5.7,\n",
       "       'fixedRadius': False,\n",
       "       'opacity': 0.8,\n",
       "       'outline': False,\n",
       "       'thickness': 2,\n",
       "       'strokeColor': None,\n",
       "       'colorRange': {'name': 'Global Warming',\n",
       "        'type': 'sequential',\n",
       "        'category': 'Uber',\n",
       "        'colors': ['#5A1846',\n",
       "         '#900C3F',\n",
       "         '#C70039',\n",
       "         '#E3611C',\n",
       "         '#F1920E',\n",
       "         '#FFC300']},\n",
       "       'strokeColorRange': {'name': 'Global Warming',\n",
       "        'type': 'sequential',\n",
       "        'category': 'Uber',\n",
       "        'colors': ['#5A1846',\n",
       "         '#900C3F',\n",
       "         '#C70039',\n",
       "         '#E3611C',\n",
       "         '#F1920E',\n",
       "         '#FFC300']},\n",
       "       'radiusRange': [0, 50],\n",
       "       'filled': True},\n",
       "      'hidden': False,\n",
       "      'textLabel': [{'field': None,\n",
       "        'color': [255, 255, 255],\n",
       "        'size': 18,\n",
       "        'offset': [0, 0],\n",
       "        'anchor': 'start',\n",
       "        'alignment': 'center'}]},\n",
       "     'visualChannels': {'colorField': None,\n",
       "      'colorScale': 'quantile',\n",
       "      'strokeColorField': None,\n",
       "      'strokeColorScale': 'quantile',\n",
       "      'sizeField': None,\n",
       "      'sizeScale': 'linear'}},\n",
       "    {'id': 'u4o2v6j',\n",
       "     'type': 'geojson',\n",
       "     'config': {'dataId': 'geojsonMunCE',\n",
       "      'label': 'geojsonMunCE',\n",
       "      'color': [254, 179, 26],\n",
       "      'columns': {'geojson': '_geojson'},\n",
       "      'isVisible': True,\n",
       "      'visConfig': {'opacity': 0.01,\n",
       "       'strokeOpacity': 0.8,\n",
       "       'thickness': 0.5,\n",
       "       'strokeColor': [239, 248, 239],\n",
       "       'colorRange': {'name': 'Global Warming',\n",
       "        'type': 'sequential',\n",
       "        'category': 'Uber',\n",
       "        'colors': ['#5A1846',\n",
       "         '#900C3F',\n",
       "         '#C70039',\n",
       "         '#E3611C',\n",
       "         '#F1920E',\n",
       "         '#FFC300']},\n",
       "       'strokeColorRange': {'name': 'Global Warming',\n",
       "        'type': 'sequential',\n",
       "        'category': 'Uber',\n",
       "        'colors': ['#5A1846',\n",
       "         '#900C3F',\n",
       "         '#C70039',\n",
       "         '#E3611C',\n",
       "         '#F1920E',\n",
       "         '#FFC300']},\n",
       "       'radius': 10,\n",
       "       'sizeRange': [0, 10],\n",
       "       'radiusRange': [0, 50],\n",
       "       'heightRange': [0, 500],\n",
       "       'elevationScale': 5,\n",
       "       'stroked': True,\n",
       "       'filled': True,\n",
       "       'enable3d': False,\n",
       "       'wireframe': False},\n",
       "      'hidden': False,\n",
       "      'textLabel': [{'field': None,\n",
       "        'color': [255, 255, 255],\n",
       "        'size': 18,\n",
       "        'offset': [0, 0],\n",
       "        'anchor': 'start',\n",
       "        'alignment': 'center'}]},\n",
       "     'visualChannels': {'colorField': None,\n",
       "      'colorScale': 'quantile',\n",
       "      'sizeField': None,\n",
       "      'sizeScale': 'linear',\n",
       "      'strokeColorField': None,\n",
       "      'strokeColorScale': 'quantile',\n",
       "      'heightField': None,\n",
       "      'heightScale': 'linear',\n",
       "      'radiusField': None,\n",
       "      'radiusScale': 'linear'}},\n",
       "    {'id': '7vh89n',\n",
       "     'type': 'heatmap',\n",
       "     'config': {'dataId': 'geojsonMunCE',\n",
       "      'label': 'PontosCalor',\n",
       "      'color': [255, 190, 51],\n",
       "      'columns': {'lat': 'latitude', 'lng': 'longitude'},\n",
       "      'isVisible': True,\n",
       "      'visConfig': {'opacity': 0.6,\n",
       "       'colorRange': {'name': 'ColorBrewer YlOrRd-6',\n",
       "        'type': 'sequential',\n",
       "        'category': 'ColorBrewer',\n",
       "        'colors': ['#ffffb2',\n",
       "         '#fed976',\n",
       "         '#feb24c',\n",
       "         '#fd8d3c',\n",
       "         '#f03b20',\n",
       "         '#bd0026']},\n",
       "       'radius': 40.7},\n",
       "      'hidden': False,\n",
       "      'textLabel': [{'field': None,\n",
       "        'color': [255, 255, 255],\n",
       "        'size': 18,\n",
       "        'offset': [0, 0],\n",
       "        'anchor': 'start',\n",
       "        'alignment': 'center'}]},\n",
       "     'visualChannels': {'weightField': {'name': 'Positivo', 'type': 'integer'},\n",
       "      'weightScale': 'linear'}}],\n",
       "   'interactionConfig': {'tooltip': {'fieldsToShow': {'geojsonMunCE': [{'name': 'name',\n",
       "        'format': None},\n",
       "       {'name': 'Inconclusivo ou Indeterminado', 'format': None},\n",
       "       {'name': 'Negativo', 'format': None},\n",
       "       {'name': 'Positivo', 'format': None}]},\n",
       "     'compareMode': False,\n",
       "     'compareType': 'absolute',\n",
       "     'enabled': True},\n",
       "    'brush': {'size': 0.5, 'enabled': False},\n",
       "    'geocoder': {'enabled': False},\n",
       "    'coordinate': {'enabled': False}},\n",
       "   'layerBlending': 'normal',\n",
       "   'splitMaps': [],\n",
       "   'animationConfig': {'currentTime': None, 'speed': 1}},\n",
       "  'mapState': {'bearing': 24,\n",
       "   'dragRotate': True,\n",
       "   'latitude': -6.463324157671157,\n",
       "   'longitude': -39.14614031354105,\n",
       "   'pitch': 50,\n",
       "   'zoom': 6.611665375914042,\n",
       "   'isSplit': False},\n",
       "  'mapStyle': {'styleType': 'dark',\n",
       "   'topLayerGroups': {},\n",
       "   'visibleLayerGroups': {'label': True,\n",
       "    'road': True,\n",
       "    'border': False,\n",
       "    'building': True,\n",
       "    'water': True,\n",
       "    'land': True,\n",
       "    '3d building': False},\n",
       "   'threeDBuildingColor': [9.665468314072013,\n",
       "    17.18305478057247,\n",
       "    31.1442867897876],\n",
       "   'mapStyles': {}}}}"
      ]
     },
     "execution_count": 184,
     "metadata": {},
     "output_type": "execute_result"
    }
   ],
   "source": [
    "config3 #PONTOS DE CALOR"
   ]
  },
  {
   "cell_type": "code",
   "execution_count": 167,
   "metadata": {
    "collapsed": true
   },
   "outputs": [
    {
     "data": {
      "text/plain": [
       "{'version': 'v1',\n",
       " 'config': {'visState': {'filters': [],\n",
       "   'layers': [{'id': 'n0iw9np',\n",
       "     'type': 'point',\n",
       "     'config': {'dataId': 'geojsonMunCE',\n",
       "      'label': 'Point',\n",
       "      'color': [241, 92, 23],\n",
       "      'columns': {'lat': 'latitude', 'lng': 'longitude', 'altitude': None},\n",
       "      'isVisible': False,\n",
       "      'visConfig': {'radius': 5.7,\n",
       "       'fixedRadius': False,\n",
       "       'opacity': 0.8,\n",
       "       'outline': False,\n",
       "       'thickness': 2,\n",
       "       'strokeColor': None,\n",
       "       'colorRange': {'name': 'Global Warming',\n",
       "        'type': 'sequential',\n",
       "        'category': 'Uber',\n",
       "        'colors': ['#5A1846',\n",
       "         '#900C3F',\n",
       "         '#C70039',\n",
       "         '#E3611C',\n",
       "         '#F1920E',\n",
       "         '#FFC300']},\n",
       "       'strokeColorRange': {'name': 'Global Warming',\n",
       "        'type': 'sequential',\n",
       "        'category': 'Uber',\n",
       "        'colors': ['#5A1846',\n",
       "         '#900C3F',\n",
       "         '#C70039',\n",
       "         '#E3611C',\n",
       "         '#F1920E',\n",
       "         '#FFC300']},\n",
       "       'radiusRange': [0, 50],\n",
       "       'filled': True},\n",
       "      'hidden': False,\n",
       "      'textLabel': [{'field': None,\n",
       "        'color': [255, 255, 255],\n",
       "        'size': 18,\n",
       "        'offset': [0, 0],\n",
       "        'anchor': 'start',\n",
       "        'alignment': 'center'}]},\n",
       "     'visualChannels': {'colorField': None,\n",
       "      'colorScale': 'quantile',\n",
       "      'strokeColorField': None,\n",
       "      'strokeColorScale': 'quantile',\n",
       "      'sizeField': None,\n",
       "      'sizeScale': 'linear'}},\n",
       "    {'id': 'mlx0m8',\n",
       "     'type': 'geojson',\n",
       "     'config': {'dataId': 'geojsonMunCE',\n",
       "      'label': 'geojsonMunCE',\n",
       "      'color': [255, 190, 51],\n",
       "      'columns': {'geojson': '_geojson'},\n",
       "      'isVisible': True,\n",
       "      'visConfig': {'opacity': 0.5,\n",
       "       'strokeOpacity': 0.8,\n",
       "       'thickness': 0.5,\n",
       "       'strokeColor': [255, 254, 230],\n",
       "       'colorRange': {'name': 'ColorBrewer YlOrRd-6',\n",
       "        'type': 'sequential',\n",
       "        'category': 'ColorBrewer',\n",
       "        'colors': ['#ffffb2',\n",
       "         '#fed976',\n",
       "         '#feb24c',\n",
       "         '#fd8d3c',\n",
       "         '#f03b20',\n",
       "         '#bd0026']},\n",
       "       'strokeColorRange': {'name': 'Global Warming',\n",
       "        'type': 'sequential',\n",
       "        'category': 'Uber',\n",
       "        'colors': ['#5A1846',\n",
       "         '#900C3F',\n",
       "         '#C70039',\n",
       "         '#E3611C',\n",
       "         '#F1920E',\n",
       "         '#FFC300']},\n",
       "       'radius': 10,\n",
       "       'sizeRange': [0, 10],\n",
       "       'radiusRange': [0, 50],\n",
       "       'heightRange': [0, 500],\n",
       "       'elevationScale': 5,\n",
       "       'stroked': True,\n",
       "       'filled': True,\n",
       "       'enable3d': False,\n",
       "       'wireframe': False},\n",
       "      'hidden': False,\n",
       "      'textLabel': [{'field': None,\n",
       "        'color': [255, 255, 255],\n",
       "        'size': 18,\n",
       "        'offset': [0, 0],\n",
       "        'anchor': 'start',\n",
       "        'alignment': 'center'}]},\n",
       "     'visualChannels': {'colorField': {'name': 'Positivo', 'type': 'integer'},\n",
       "      'colorScale': 'quantize',\n",
       "      'sizeField': None,\n",
       "      'sizeScale': 'linear',\n",
       "      'strokeColorField': None,\n",
       "      'strokeColorScale': 'quantile',\n",
       "      'heightField': None,\n",
       "      'heightScale': 'linear',\n",
       "      'radiusField': None,\n",
       "      'radiusScale': 'linear'}},\n",
       "    {'id': 'v98yisk',\n",
       "     'type': 'geojson',\n",
       "     'config': {'dataId': 'geojsonEstadoCE',\n",
       "      'label': 'geoFrontCE',\n",
       "      'color': [183, 136, 94],\n",
       "      'columns': {'geojson': '_geojson'},\n",
       "      'isVisible': True,\n",
       "      'visConfig': {'opacity': 0.8,\n",
       "       'strokeOpacity': 0.8,\n",
       "       'thickness': 5,\n",
       "       'strokeColor': [61, 122, 62],\n",
       "       'colorRange': {'name': 'Global Warming',\n",
       "        'type': 'sequential',\n",
       "        'category': 'Uber',\n",
       "        'colors': ['#5A1846',\n",
       "         '#900C3F',\n",
       "         '#C70039',\n",
       "         '#E3611C',\n",
       "         '#F1920E',\n",
       "         '#FFC300']},\n",
       "       'strokeColorRange': {'name': 'Global Warming',\n",
       "        'type': 'sequential',\n",
       "        'category': 'Uber',\n",
       "        'colors': ['#5A1846',\n",
       "         '#900C3F',\n",
       "         '#C70039',\n",
       "         '#E3611C',\n",
       "         '#F1920E',\n",
       "         '#FFC300']},\n",
       "       'radius': 10,\n",
       "       'sizeRange': [0, 10],\n",
       "       'radiusRange': [0, 50],\n",
       "       'heightRange': [0, 500],\n",
       "       'elevationScale': 5,\n",
       "       'stroked': True,\n",
       "       'filled': False,\n",
       "       'enable3d': False,\n",
       "       'wireframe': False},\n",
       "      'hidden': False,\n",
       "      'textLabel': [{'field': None,\n",
       "        'color': [255, 255, 255],\n",
       "        'size': 18,\n",
       "        'offset': [0, 0],\n",
       "        'anchor': 'start',\n",
       "        'alignment': 'center'}]},\n",
       "     'visualChannels': {'colorField': None,\n",
       "      'colorScale': 'quantile',\n",
       "      'sizeField': None,\n",
       "      'sizeScale': 'linear',\n",
       "      'strokeColorField': None,\n",
       "      'strokeColorScale': 'quantile',\n",
       "      'heightField': None,\n",
       "      'heightScale': 'linear',\n",
       "      'radiusField': None,\n",
       "      'radiusScale': 'linear'}}],\n",
       "   'interactionConfig': {'tooltip': {'fieldsToShow': {'geojsonMunCE': [{'name': 'id',\n",
       "        'format': None},\n",
       "       {'name': 'name', 'format': None},\n",
       "       {'name': 'Inconclusivo ou Indeterminado', 'format': None},\n",
       "       {'name': 'Negativo', 'format': None},\n",
       "       {'name': 'Positivo', 'format': None}],\n",
       "      'geojsonEstadoCE': [{'name': 'Name', 'format': None},\n",
       "       {'name': 'Description', 'format': None}]},\n",
       "     'compareMode': False,\n",
       "     'compareType': 'absolute',\n",
       "     'enabled': True},\n",
       "    'brush': {'size': 0.5, 'enabled': False},\n",
       "    'geocoder': {'enabled': False},\n",
       "    'coordinate': {'enabled': False}},\n",
       "   'layerBlending': 'normal',\n",
       "   'splitMaps': [],\n",
       "   'animationConfig': {'currentTime': None, 'speed': 1}},\n",
       "  'mapState': {'bearing': 0,\n",
       "   'dragRotate': False,\n",
       "   'latitude': -5.662640307328346,\n",
       "   'longitude': -39.0874276343347,\n",
       "   'pitch': 0,\n",
       "   'zoom': 6,\n",
       "   'isSplit': False},\n",
       "  'mapStyle': {'styleType': 'dark',\n",
       "   'topLayerGroups': {},\n",
       "   'visibleLayerGroups': {'label': True,\n",
       "    'road': True,\n",
       "    'border': False,\n",
       "    'building': True,\n",
       "    'water': True,\n",
       "    'land': True,\n",
       "    '3d building': False},\n",
       "   'threeDBuildingColor': [9.665468314072013,\n",
       "    17.18305478057247,\n",
       "    31.1442867897876],\n",
       "   'mapStyles': {}}}}"
      ]
     },
     "execution_count": 167,
     "metadata": {},
     "output_type": "execute_result"
    }
   ],
   "source": [
    "config2 #INICIAL, CASOS CONFIRMADOS, MAPA DE CALOR COM FRONTEIRA DO CEARA"
   ]
  },
  {
   "cell_type": "code",
   "execution_count": null,
   "metadata": {},
   "outputs": [],
   "source": [
    "Muita Coisa => https://www.analyticsvidhya.com/blog/2020/06/learn-visualize-geospatial-data-jupyter-kepler/\n",
    "4D Data Visualization with Kepler.gl => https://towardsdatascience.com/4d-data-visualization-with-kepler-gl-b6bd6dd90451\n",
    "KEPLER => https://docs.kepler.gl/docs/keplergl-jupyter#2-add-data"
   ]
  },
  {
   "cell_type": "markdown",
   "metadata": {},
   "source": [
    "## Bibliotecas "
   ]
  },
  {
   "cell_type": "code",
   "execution_count": 8,
   "metadata": {},
   "outputs": [
    {
     "name": "stdout",
     "output_type": "stream",
     "text": [
      "Requirement already satisfied: wheel in c:\\users\\flavio.sousa\\appdata\\local\\continuum\\anaconda2\\envs\\py37\\lib\\site-packages (0.36.2)\n",
      "Collecting pipwin\n",
      "  Downloading pipwin-0.5.0-py2.py3-none-any.whl (7.6 kB)\n",
      "Requirement already satisfied: six in c:\\users\\flavio.sousa\\appdata\\local\\continuum\\anaconda2\\envs\\py37\\lib\\site-packages (from pipwin) (1.15.0)\n",
      "Requirement already satisfied: requests in c:\\users\\flavio.sousa\\appdata\\local\\continuum\\anaconda2\\envs\\py37\\lib\\site-packages (from pipwin) (2.25.1)\n",
      "Requirement already satisfied: beautifulsoup4>=4.9.0 in c:\\users\\flavio.sousa\\appdata\\local\\continuum\\anaconda2\\envs\\py37\\lib\\site-packages (from pipwin) (4.9.3)\n",
      "Requirement already satisfied: packaging in c:\\users\\flavio.sousa\\appdata\\local\\continuum\\anaconda2\\envs\\py37\\lib\\site-packages (from pipwin) (20.8)\n",
      "Requirement already satisfied: soupsieve>1.2 in c:\\users\\flavio.sousa\\appdata\\local\\continuum\\anaconda2\\envs\\py37\\lib\\site-packages (from beautifulsoup4>=4.9.0->pipwin) (2.1)\n",
      "Collecting pySmartDL>=1.3.1\n",
      "  Downloading pySmartDL-1.3.4-py3-none-any.whl (20 kB)\n",
      "Collecting docopt\n",
      "  Downloading docopt-0.6.2.tar.gz (25 kB)\n",
      "Collecting js2py\n",
      "  Downloading Js2Py-0.70-py3-none-any.whl (605 kB)\n",
      "Requirement already satisfied: tzlocal>=1.2 in c:\\users\\flavio.sousa\\appdata\\local\\continuum\\anaconda2\\envs\\py37\\lib\\site-packages (from js2py->pipwin) (2.1)\n",
      "Collecting pyjsparser>=2.5.1\n",
      "  Downloading pyjsparser-2.7.1.tar.gz (24 kB)\n",
      "Requirement already satisfied: pytz in c:\\users\\flavio.sousa\\appdata\\local\\continuum\\anaconda2\\envs\\py37\\lib\\site-packages (from tzlocal>=1.2->js2py->pipwin) (2019.3)\n",
      "Requirement already satisfied: pyparsing>=2.0.2 in c:\\users\\flavio.sousa\\appdata\\local\\continuum\\anaconda2\\envs\\py37\\lib\\site-packages (from packaging->pipwin) (2.4.7)\n",
      "Collecting pyprind\n",
      "  Downloading PyPrind-2.11.2-py3-none-any.whl (8.6 kB)\n",
      "Requirement already satisfied: chardet<5,>=3.0.2 in c:\\users\\flavio.sousa\\appdata\\local\\continuum\\anaconda2\\envs\\py37\\lib\\site-packages (from requests->pipwin) (4.0.0)\n",
      "Requirement already satisfied: certifi>=2017.4.17 in c:\\users\\flavio.sousa\\appdata\\local\\continuum\\anaconda2\\envs\\py37\\lib\\site-packages (from requests->pipwin) (2020.12.5)\n",
      "Requirement already satisfied: urllib3<1.27,>=1.21.1 in c:\\users\\flavio.sousa\\appdata\\local\\continuum\\anaconda2\\envs\\py37\\lib\\site-packages (from requests->pipwin) (1.26.2)\n",
      "Requirement already satisfied: idna<3,>=2.5 in c:\\users\\flavio.sousa\\appdata\\local\\continuum\\anaconda2\\envs\\py37\\lib\\site-packages (from requests->pipwin) (2.10)\n",
      "Building wheels for collected packages: docopt, pyjsparser\n",
      "  Building wheel for docopt (setup.py): started\n",
      "  Building wheel for docopt (setup.py): finished with status 'done'\n",
      "  Created wheel for docopt: filename=docopt-0.6.2-py2.py3-none-any.whl size=13705 sha256=f5d4b1f4382ba5e08bd673d38970fa26dfc9fef061b33b78a64e1e4227b69ead\n",
      "  Stored in directory: c:\\users\\flavio.sousa\\appdata\\local\\pip\\cache\\wheels\\72\\b0\\3f\\1d95f96ff986c7dfffe46ce2be4062f38ebd04b506c77c81b9\n",
      "  Building wheel for pyjsparser (setup.py): started\n",
      "  Building wheel for pyjsparser (setup.py): finished with status 'done'\n",
      "  Created wheel for pyjsparser: filename=pyjsparser-2.7.1-py3-none-any.whl size=25998 sha256=719617ccfe80bffc6de61532775767485dcc2631a1f033b3cf2e60209c9a26ed\n",
      "  Stored in directory: c:\\users\\flavio.sousa\\appdata\\local\\pip\\cache\\wheels\\2a\\80\\ac\\dcd2bdbd03dd2b7b7e2bf3e5afbda6a1ab7935bbce314969da\n",
      "Successfully built docopt pyjsparser\n",
      "Installing collected packages: pyjsparser, pySmartDL, pyprind, js2py, docopt, pipwin\n",
      "Successfully installed docopt-0.6.2 js2py-0.70 pipwin-0.5.0 pySmartDL-1.3.4 pyjsparser-2.7.1 pyprind-2.11.2\n",
      "Building cache. Hang on . . .\n",
      "Done\n",
      "Package `numpy` found in cache\n",
      "Downloading package . . .\n",
      "https://download.lfd.uci.edu/pythonlibs/z4tqcw5k/numpy-1.19.4+vanilla-cp37-cp37m-win_amd64.whl\n",
      "numpy-1.19.4+vanilla-cp37-cp37m-win_amd64.whl\n",
      "[*] 0 bytes / 4.6 MB @ 0 bytes/s [------------------] [0.0%, 0s left]   [*] 0 bytes / 4.6 MB @ 0 bytes/s [------------------] [0.0%, 0s left]   [*] 0 bytes / 4.6 MB @ 0 bytes/s [------------------] [0.0%, 0s left]   [*] 0 bytes / 4.6 MB @ 0 bytes/s [------------------] [0.0%, 0s left]   [*] 0 bytes / 4.6 MB @ 0 bytes/s [------------------] [0.0%, 0s left]   [*] 0 bytes / 4.6 MB @ 0 bytes/s [------------------] [0.0%, 0s left]   [*] 0 bytes / 4.6 MB @ 0 bytes/s [------------------] [0.0%, 0s left]   [*] 8 kB / 4.6 MB @ 10 kB/s [------------------] [0.2%, 0s left]  [*] 8 kB / 4.6 MB @ 9 kB/s [------------------] [0.2%, 0s left]   [*] 40 kB / 4.6 MB @ 40 kB/s [------------------] [0.9%, 0s left]   [*] 120 kB / 4.6 MB @ 109 kB/s [------------------] [2.6%, 0s left]   [*] 232 kB / 4.6 MB @ 193 kB/s [------------------] [5.0%, 0s left]   [*] 280 kB / 4.6 MB @ 215 kB/s [#-----------------] [6.0%, 0s left]   [*] 280 kB / 4.6 MB @ 200 kB/s [#-----------------] [6.0%, 0s left]   [*] 360 kB / 4.6 MB @ 240 kB/s [#-----------------] [7.7%, 0s left]   [*] 408 kB / 4.6 MB @ 255 kB/s [#-----------------] [8.7%, 0s left]   [*] 472 kB / 4.6 MB @ 278 kB/s [#-----------------] [10.1%, 0s left]  [*] 472 kB / 4.6 MB @ 262 kB/s [#-----------------] [10.1%, 0s left]  [*] 536 kB / 4.6 MB @ 282 kB/s [##----------------] [11.4%, 0s left]  [*] 600 kB / 4.6 MB @ 300 kB/s [##----------------] [12.8%, 0s left]  [*] 664 kB / 4.6 MB @ 316 kB/s [##----------------] [14.2%, 0s left]  [*] 744 kB / 4.6 MB @ 338 kB/s [##----------------] [15.9%, 0s left]  [*] 744 kB / 4.6 MB @ 323 kB/s [##----------------] [15.9%, 0s left]  [*] 808 kB / 4.6 MB @ 337 kB/s [###---------------] [17.2%, 0s left]  [*] 872 kB / 4.6 MB @ 349 kB/s [###---------------] [18.6%, 0s left]  [*] 952 kB / 4.6 MB @ 366 kB/s [###---------------] [20.3%, 0s left]  [*] 952 kB / 4.6 MB @ 353 kB/s [###---------------] [20.3%, 0s left]  [*] 1.0 MB / 4.6 MB @ 369 kB/s [###---------------] [22.0%, 0s left]  [*] 1.1 MB / 4.6 MB @ 378 kB/s [####--------------] [23.4%, 0s left]  [*] 1.1 MB / 4.6 MB @ 392 kB/s [####--------------] [25.1%, 0s left]  [*] 1.2 MB / 4.6 MB @ 419 kB/s [####--------------] [26.8%, 0s left]  [*] 1.2 MB / 4.6 MB @ 419 kB/s [####--------------] [26.8%, 0s left]  [*] 1.3 MB / 4.6 MB @ 445 kB/s [#####-------------] [28.5%, 0s left]  [*] 1.4 MB / 4.6 MB @ 477 kB/s [#####-------------] [30.6%, 0s left]  [*] 1.5 MB / 4.6 MB @ 504 kB/s [#####-------------] [32.3%, 0s left]  [*] 1.5 MB / 4.6 MB @ 509 kB/s [#####-------------] [32.6%, 0s left]  [*] 1.6 MB / 4.6 MB @ 531 kB/s [######------------] [34.0%, 0s left]  [*] 1.6 MB / 4.6 MB @ 555 kB/s [######------------] [35.7%, 0s left]  [*] 1.7 MB / 4.6 MB @ 587 kB/s [######------------] [37.7%, 0s left]  [*] 1.8 MB / 4.6 MB @ 603 kB/s [#######-----------] [39.4%, 0s left]  [*] 1.8 MB / 4.6 MB @ 576 kB/s [#######-----------] [39.4%, 0s left]  [*] 1.9 MB / 4.6 MB @ 571 kB/s [#######-----------] [41.5%, 0s left]  [*] 2.0 MB / 4.6 MB @ 587 kB/s [#######-----------] [43.5%, 0s left]  [*] 2.1 MB / 4.6 MB @ 619 kB/s [########----------] [45.6%, 0s left]  [*] 2.1 MB / 4.6 MB @ 603 kB/s [########----------] [46.3%, 0s left]  [*] 2.2 MB / 4.6 MB @ 608 kB/s [########----------] [47.6%, 0s left]  [*] 2.3 MB / 4.6 MB @ 619 kB/s [########----------] [49.7%, 0s left]  [*] 2.4 MB / 4.6 MB @ 651 kB/s [#########---------] [51.7%, 0s left]  [*] 2.4 MB / 4.6 MB @ 656 kB/s [#########---------] [53.4%, 0s left]  [*] 2.5 MB / 4.6 MB @ 640 kB/s [#########---------] [53.8%, 0s left]  [*] 2.6 MB / 4.6 MB @ 651 kB/s [##########--------] [55.8%, 0s left]  [*] 2.6 MB / 4.6 MB @ 656 kB/s [##########--------] [57.9%, 0s left]  [*] 2.8 MB / 4.6 MB @ 693 kB/s [##########--------] [60.3%, 0s left]  [*] 2.8 MB / 4.6 MB @ 683 kB/s [##########--------] [60.9%, 0s left]  [*] 2.9 MB / 4.6 MB @ 683 kB/s [###########-------] [62.3%, 0s left]  [*] 3.0 MB / 4.6 MB @ 693 kB/s [###########-------] [64.7%, 0s left]  [*] 3.1 MB / 4.6 MB @ 731 kB/s [############------] [67.1%, 5s left]  [*] 3.2 MB / 4.6 MB @ 741 kB/s [############------] [69.5%, 5s left]  [*] 3.2 MB / 4.6 MB @ 720 kB/s [############------] [69.5%, 5s left]  [*] 3.3 MB / 4.6 MB @ 725 kB/s [############------] [71.5%, 5s left]  [*] 3.4 MB / 4.6 MB @ 736 kB/s [#############-----] [73.9%, 5s left]  [*] 3.5 MB / 4.6 MB @ 779 kB/s [#############-----] [76.7%, 5s left]  [*] 3.6 MB / 4.6 MB @ 768 kB/s [#############-----] [77.7%, 5s left]  [*] 3.6 MB / 4.6 MB @ 757 kB/s [##############----] [79.0%, 5s left]  [*] 3.7 MB / 4.6 MB @ 768 kB/s [##############----] [81.4%, 5s left]  [*] 3.8 MB / 4.6 MB @ 800 kB/s [###############---] [83.8%, 5s left]  [*] 4.0 MB / 4.6 MB @ 821 kB/s [###############---] [86.6%, 2s left]  [*] 4.0 MB / 4.6 MB @ 795 kB/s [###############---] [86.6%, 2s left]  [*] 4.1 MB / 4.6 MB @ 800 kB/s [################--] [88.9%, 2s left]  [*] 4.2 MB / 4.6 MB @ 816 kB/s [################--] [91.7%, 2s left]  [*] 4.3 MB / 4.6 MB @ 853 kB/s [################--] [94.1%, 2s left]  [*] 4.4 MB / 4.6 MB @ 843 kB/s [#################-] [95.4%, 2s left]  [*] 4.4 MB / 4.6 MB @ 832 kB/s [#################-] [96.8%, 2s left]  [*] 4.6 MB / 4.6 MB @ 843 kB/s [#################-] [99.5%, 2s left]  Processing c:\\users\\flavio.sousa\\pipwin\\numpy-1.19.4+vanilla-cp37-cp37m-win_amd64.whl\n",
      "Installing collected packages: numpy\n",
      "  Attempting uninstall: numpy\n",
      "    Found existing installation: numpy 1.19.4\n",
      "    Uninstalling numpy-1.19.4:\n",
      "      Successfully uninstalled numpy-1.19.4\n",
      "[*] 4.6 MB / 4.6 MB @ 843 kB/s [##################] [100%, 0s left]    \n"
     ]
    },
    {
     "name": "stderr",
     "output_type": "stream",
     "text": [
      "ERROR: Could not install packages due to an EnvironmentError: [WinError 5] Acesso negado: 'c:\\\\users\\\\flavio.sousa\\\\appdata\\\\local\\\\continuum\\\\anaconda2\\\\envs\\\\py37\\\\lib\\\\site-packages\\\\numpy\\\\~ore\\\\_multiarray_tests.cp37-win_amd64.pyd'\n",
      "Consider using the `--user` option or check the permissions.\n",
      "\n",
      "Traceback (most recent call last):\n",
      "  File \"c:\\users\\flavio.sousa\\appdata\\local\\continuum\\anaconda2\\envs\\py37\\lib\\runpy.py\", line 193, in _run_module_as_main\n",
      "    \"__main__\", mod_spec)\n",
      "  File \"c:\\users\\flavio.sousa\\appdata\\local\\continuum\\anaconda2\\envs\\py37\\lib\\runpy.py\", line 85, in _run_code\n",
      "    exec(code, run_globals)\n",
      "  File \"C:\\Users\\flavio.sousa\\AppData\\Local\\Continuum\\anaconda2\\envs\\py37\\Scripts\\pipwin.exe\\__main__.py\", line 7, in <module>\n",
      "  File \"c:\\users\\flavio.sousa\\appdata\\local\\continuum\\anaconda2\\envs\\py37\\lib\\site-packages\\pipwin\\command.py\", line 98, in main\n",
      "    cache.install(package)\n",
      "  File \"c:\\users\\flavio.sousa\\appdata\\local\\continuum\\anaconda2\\envs\\py37\\lib\\site-packages\\pipwin\\pipwin.py\", line 301, in install\n",
      "    subprocess.check_call([executable, \"-m\", \"pip\", \"install\", wheel_file])\n",
      "  File \"c:\\users\\flavio.sousa\\appdata\\local\\continuum\\anaconda2\\envs\\py37\\lib\\subprocess.py\", line 363, in check_call\n",
      "    raise CalledProcessError(retcode, cmd)\n",
      "subprocess.CalledProcessError: Command '['c:\\\\users\\\\flavio.sousa\\\\appdata\\\\local\\\\continuum\\\\anaconda2\\\\envs\\\\py37\\\\python.exe', '-m', 'pip', 'install', 'C:\\\\Users\\\\flavio.sousa\\\\pipwin\\\\numpy-1.19.4+vanilla-cp37-cp37m-win_amd64.whl']' returned non-zero exit status 1.\n"
     ]
    },
    {
     "name": "stdout",
     "output_type": "stream",
     "text": [
      "Package `pandas` found in cache\n",
      "Downloading package . . .\n",
      "https://download.lfd.uci.edu/pythonlibs/z4tqcw5k/pandas-1.2.0-cp37-cp37m-win_amd64.whl\n",
      "pandas-1.2.0-cp37-cp37m-win_amd64.whl\n",
      "[*] 0 bytes / 8.5 MB @ 0 bytes/s [------------------] [0.0%, 0s left]   \b\b\b\b\b\b\b\b\b\b\b\b\b\b\b\b\b\b\b\b\b\b\b\b\b\b\b\b\b\b\b\b\b\b\b\b\b\b\b\b\b\b\b\b\b\b\b\b\b\b\b\b\b\b\b\b\b\b\b\b\b\b\b\b\b\b\b\b\b\b\b\b\b [*] 0 bytes / 8.5 MB @ 0 bytes/s [------------------] [0.0%, 0s left]   \b\b\b\b\b\b\b\b\b\b\b\b\b\b\b\b\b\b\b\b\b\b\b\b\b\b\b\b\b\b\b\b\b\b\b\b\b\b\b\b\b\b\b\b\b\b\b\b\b\b\b\b\b\b\b\b\b\b\b\b\b\b\b\b\b\b\b\b\b\b\b\b\b [*] 0 bytes / 8.5 MB @ 0 bytes/s [------------------] [0.0%, 0s left]   \b\b\b\b\b\b\b\b\b\b\b\b\b\b\b\b\b\b\b\b\b\b\b\b\b\b\b\b\b\b\b\b\b\b\b\b\b\b\b\b\b\b\b\b\b\b\b\b\b\b\b\b\b\b\b\b\b\b\b\b\b\b\b\b\b\b\b\b\b\b\b\b\b [*] 0 bytes / 8.5 MB @ 0 bytes/s [------------------] [0.0%, 0s left]   \b\b\b\b\b\b\b\b\b\b\b\b\b\b\b\b\b\b\b\b\b\b\b\b\b\b\b\b\b\b\b\b\b\b\b\b\b\b\b\b\b\b\b\b\b\b\b\b\b\b\b\b\b\b\b\b\b\b\b\b\b\b\b\b\b\b\b\b\b\b\b\b\b [*] 0 bytes / 8.5 MB @ 0 bytes/s [------------------] [0.0%, 0s left]   \b\b\b\b\b\b\b\b\b\b\b\b\b\b\b\b\b\b\b\b\b\b\b\b\b\b\b\b\b\b\b\b\b\b\b\b\b\b\b\b\b\b\b\b\b\b\b\b\b\b\b\b\b\b\b\b\b\b\b\b\b\b\b\b\b\b\b\b\b\b\b\b\b [*] 0 bytes / 8.5 MB @ 0 bytes/s [------------------] [0.0%, 0s left]   \b\b\b\b\b\b\b\b\b\b\b\b\b\b\b\b\b\b\b\b\b\b\b\b\b\b\b\b\b\b\b\b\b\b\b\b\b\b\b\b\b\b\b\b\b\b\b\b\b\b\b\b\b\b\b\b\b\b\b\b\b\b\b\b\b\b\b\b\b\b\b\b\b [*] 0 bytes / 8.5 MB @ 0 bytes/s [------------------] [0.0%, 0s left]   \b\b\b\b\b\b\b\b\b\b\b\b\b\b\b\b\b\b\b\b\b\b\b\b\b\b\b\b\b\b\b\b\b\b\b\b\b\b\b\b\b\b\b\b\b\b\b\b\b\b\b\b\b\b\b\b\b\b\b\b\b\b\b\b\b\b\b\b\b\b\b\b\b [*] 8 kB / 8.5 MB @ 10 kB/s [------------------] [0.1%, 0s left]   \b\b\b\b\b\b\b\b\b\b\b\b\b\b\b\b\b\b\b\b\b\b\b\b\b\b\b\b\b\b\b\b\b\b\b\b\b\b\b\b\b\b\b\b\b\b\b\b\b\b\b\b\b\b\b\b\b\b\b\b\b\b\b\b\b\b\b\b [*] 8 kB / 8.5 MB @ 9 kB/s [------------------] [0.1%, 0s left]   \b\b\b\b\b\b\b\b\b\b\b\b\b\b\b\b\b\b\b\b\b\b\b\b\b\b\b\b\b\b\b\b\b\b\b\b\b\b\b\b\b\b\b\b\b\b\b\b\b\b\b\b\b\b\b\b\b\b\b\b\b\b\b\b\b\b\b [*] 40 kB / 8.5 MB @ 40 kB/s [------------------] [0.5%, 0s left]   \b\b\b\b\b\b\b\b\b\b\b\b\b\b\b\b\b\b\b\b\b\b\b\b\b\b\b\b\b\b\b\b\b\b\b\b\b\b\b\b\b\b\b\b\b\b\b\b\b\b\b\b\b\b\b\b\b\b\b\b\b\b\b\b\b\b\b\b\b [*] 120 kB / 8.5 MB @ 109 kB/s [------------------] [1.4%, 0s left]   \b\b\b\b\b\b\b\b\b\b\b\b\b\b\b\b\b\b\b\b\b\b\b\b\b\b\b\b\b\b\b\b\b\b\b\b\b\b\b\b\b\b\b\b\b\b\b\b\b\b\b\b\b\b\b\b\b\b\b\b\b\b\b\b\b\b\b\b\b\b\b [*] 232 kB / 8.5 MB @ 193 kB/s [------------------] [2.7%, 0s left]   \b\b\b\b\b\b\b\b\b\b\b\b\b\b\b\b\b\b\b\b\b\b\b\b\b\b\b\b\b\b\b\b\b\b\b\b\b\b\b\b\b\b\b\b\b\b\b\b\b\b\b\b\b\b\b\b\b\b\b\b\b\b\b\b\b\b\b\b\b\b\b [*] 360 kB / 8.5 MB @ 277 kB/s [------------------] [4.1%, 0s left]   \b\b\b\b\b\b\b\b\b\b\b\b\b\b\b\b\b\b\b\b\b\b\b\b\b\b\b\b\b\b\b\b\b\b\b\b\b\b\b\b\b\b\b\b\b\b\b\b\b\b\b\b\b\b\b\b\b\b\b\b\b\b\b\b\b\b\b\b\b\b\b [*] 360 kB / 8.5 MB @ 257 kB/s [------------------] [4.1%, 0s left]   \b\b\b\b\b\b\b\b\b\b\b\b\b\b\b\b\b\b\b\b\b\b\b\b\b\b\b\b\b\b\b\b\b\b\b\b\b\b\b\b\b\b\b\b\b\b\b\b\b\b\b\b\b\b\b\b\b\b\b\b\b\b\b\b\b\b\b\b\b\b\b [*] 552 kB / 8.5 MB @ 368 kB/s [#-----------------] [6.4%, 0s left]   \b\b\b\b\b\b\b\b\b\b\b\b\b\b\b\b\b\b\b\b\b\b\b\b\b\b\b\b\b\b\b\b\b\b\b\b\b\b\b\b\b\b\b\b\b\b\b\b\b\b\b\b\b\b\b\b\b\b\b\b\b\b\b\b\b\b\b\b\b\b\b [*] 920 kB / 8.5 MB @ 575 kB/s [#-----------------] [10.6%, 0s left]   \b\b\b\b\b\b\b\b\b\b\b\b\b\b\b\b\b\b\b\b\b\b\b\b\b\b\b\b\b\b\b\b\b\b\b\b\b\b\b\b\b\b\b\b\b\b\b\b\b\b\b\b\b\b\b\b\b\b\b\b\b\b\b\b\b\b\b\b\b\b\b\b [*] 1.2 MB / 8.5 MB @ 701 kB/s [##----------------] [13.7%, 0s left]   \b\b\b\b\b\b\b\b\b\b\b\b\b\b\b\b\b\b\b\b\b\b\b\b\b\b\b\b\b\b\b\b\b\b\b\b\b\b\b\b\b\b\b\b\b\b\b\b\b\b\b\b\b\b\b\b\b\b\b\b\b\b\b\b\b\b\b\b\b\b\b\b [*] 1.2 MB / 8.5 MB @ 662 kB/s [##----------------] [13.7%, 0s left]   \b\b\b\b\b\b\b\b\b\b\b\b\b\b\b\b\b\b\b\b\b\b\b\b\b\b\b\b\b\b\b\b\b\b\b\b\b\b\b\b\b\b\b\b\b\b\b\b\b\b\b\b\b\b\b\b\b\b\b\b\b\b\b\b\b\b\b\b\b\b\b\b [*] 1.2 MB / 8.5 MB @ 627 kB/s [##----------------] [13.7%, 0s left]   \b\b\b\b\b\b\b\b\b\b\b\b\b\b\b\b\b\b\b\b\b\b\b\b\b\b\b\b\b\b\b\b\b\b\b\b\b\b\b\b\b\b\b\b\b\b\b\b\b\b\b\b\b\b\b\b\b\b\b\b\b\b\b\b\b\b\b\b\b\b\b\b [*] 2.6 MB / 8.5 MB @ 1.3 MB/s [#####-------------] [30.7%, 0s left]   \b\b\b\b\b\b\b\b\b\b\b\b\b\b\b\b\b\b\b\b\b\b\b\b\b\b\b\b\b\b\b\b\b\b\b\b\b\b\b\b\b\b\b\b\b\b\b\b\b\b\b\b\b\b\b\b\b\b\b\b\b\b\b\b\b\b\b\b\b\b\b\b [*] 2.9 MB / 8.5 MB @ 1.4 MB/s [######------------] [34.1%, 0s left]   \b\b\b\b\b\b\b\b\b\b\b\b\b\b\b\b\b\b\b\b\b\b\b\b\b\b\b\b\b\b\b\b\b\b\b\b\b\b\b\b\b\b\b\b\b\b\b\b\b\b\b\b\b\b\b\b\b\b\b\b\b\b\b\b\b\b\b\b\b\b\b\b [*] 3.2 MB / 8.5 MB @ 1.4 MB/s [######------------] [37.5%, 0s left]   \b\b\b\b\b\b\b\b\b\b\b\b\b\b\b\b\b\b\b\b\b\b\b\b\b\b\b\b\b\b\b\b\b\b\b\b\b\b\b\b\b\b\b\b\b\b\b\b\b\b\b\b\b\b\b\b\b\b\b\b\b\b\b\b\b\b\b\b\b\b\b\b [*] 3.6 MB / 8.5 MB @ 1.6 MB/s [#######-----------] [42.4%, 0s left]   \b\b\b\b\b\b\b\b\b\b\b\b\b\b\b\b\b\b\b\b\b\b\b\b\b\b\b\b\b\b\b\b\b\b\b\b\b\b\b\b\b\b\b\b\b\b\b\b\b\b\b\b\b\b\b\b\b\b\b\b\b\b\b\b\b\b\b\b\b\b\b\b [*] 4.1 MB / 8.5 MB @ 1.7 MB/s [########----------] [48.3%, 0s left]   \b\b\b\b\b\b\b\b\b\b\b\b\b\b\b\b\b\b\b\b\b\b\b\b\b\b\b\b\b\b\b\b\b\b\b\b\b\b\b\b\b\b\b\b\b\b\b\b\b\b\b\b\b\b\b\b\b\b\b\b\b\b\b\b\b\b\b\b\b\b\b\b [*] 4.6 MB / 8.5 MB @ 1.8 MB/s [#########---------] [54.2%, 0s left]   \b\b\b\b\b\b\b\b\b\b\b\b\b\b\b\b\b\b\b\b\b\b\b\b\b\b\b\b\b\b\b\b\b\b\b\b\b\b\b\b\b\b\b\b\b\b\b\b\b\b\b\b\b\b\b\b\b\b\b\b\b\b\b\b\b\b\b\b\b\b\b\b [*] 4.9 MB / 8.5 MB @ 1.9 MB/s [##########--------] [57.7%, 0s left]   \b\b\b\b\b\b\b\b\b\b\b\b\b\b\b\b\b\b\b\b\b\b\b\b\b\b\b\b\b\b\b\b\b\b\b\b\b\b\b\b\b\b\b\b\b\b\b\b\b\b\b\b\b\b\b\b\b\b\b\b\b\b\b\b\b\b\b\b\b\b\b\b [*] 5.1 MB / 8.5 MB @ 1.9 MB/s [##########--------] [60.5%, 0s left]   \b\b\b\b\b\b\b\b\b\b\b\b\b\b\b\b\b\b\b\b\b\b\b\b\b\b\b\b\b\b\b\b\b\b\b\b\b\b\b\b\b\b\b\b\b\b\b\b\b\b\b\b\b\b\b\b\b\b\b\b\b\b\b\b\b\b\b\b\b\b\b\b [*] 5.6 MB / 8.5 MB @ 2.0 MB/s [###########-------] [66.2%, 0s left]   \b\b\b\b\b\b\b\b\b\b\b\b\b\b\b\b\b\b\b\b\b\b\b\b\b\b\b\b\b\b\b\b\b\b\b\b\b\b\b\b\b\b\b\b\b\b\b\b\b\b\b\b\b\b\b\b\b\b\b\b\b\b\b\b\b\b\b\b\b\b\b\b [*] 6.1 MB / 8.5 MB @ 2.1 MB/s [############------] [72.1%, 0s left]   \b\b\b\b\b\b\b\b\b\b\b\b\b\b\b\b\b\b\b\b\b\b\b\b\b\b\b\b\b\b\b\b\b\b\b\b\b\b\b\b\b\b\b\b\b\b\b\b\b\b\b\b\b\b\b\b\b\b\b\b\b\b\b\b\b\b\b\b\b\b\b\b [*] 6.6 MB / 8.5 MB @ 2.2 MB/s [#############-----] [77.4%, 0s left]   \b\b\b\b\b\b\b\b\b\b\b\b\b\b\b\b\b\b\b\b\b\b\b\b\b\b\b\b\b\b\b\b\b\b\b\b\b\b\b\b\b\b\b\b\b\b\b\b\b\b\b\b\b\b\b\b\b\b\b\b\b\b\b\b\b\b\b\b\b\b\b\b [*] 6.9 MB / 8.5 MB @ 2.3 MB/s [##############----] [80.9%, 0s left]   \b\b\b\b\b\b\b\b\b\b\b\b\b\b\b\b\b\b\b\b\b\b\b\b\b\b\b\b\b\b\b\b\b\b\b\b\b\b\b\b\b\b\b\b\b\b\b\b\b\b\b\b\b\b\b\b\b\b\b\b\b\b\b\b\b\b\b\b\b\b\b\b [*] 7.1 MB / 8.5 MB @ 2.4 MB/s [###############---] [84.2%, 0s left]   \b\b\b\b\b\b\b\b\b\b\b\b\b\b\b\b\b\b\b\b\b\b\b\b\b\b\b\b\b\b\b\b\b\b\b\b\b\b\b\b\b\b\b\b\b\b\b\b\b\b\b\b\b\b\b\b\b\b\b\b\b\b\b\b\b\b\b\b\b\b\b\b [*] 7.7 MB / 8.5 MB @ 2.6 MB/s [################--] [90.3%, 0s left]   \b\b\b\b\b\b\b\b\b\b\b\b\b\b\b\b\b\b\b\b\b\b\b\b\b\b\b\b\b\b\b\b\b\b\b\b\b\b\b\b\b\b\b\b\b\b\b\b\b\b\b\b\b\b\b\b\b\b\b\b\b\b\b\b\b\b\b\b\b\b\b\b [*] 8.2 MB / 8.5 MB @ 2.7 MB/s [#################-] [96.2%, 0s left]   \b\b\b\b\b\b\b\b\b\b\b\b\b\b\b\b\b\b\b\b\b\b\b\b\b\b\b\b\b\b\b\b\b\b\b\b\b\b\b\b\b\b\b\b\b\b\b\b\b\b\b\b\b\b\b\b\b\b\b\b\b\b\b\b\b\b\b\b\b\b\b\b Processing c:\\users\\flavio.sousa\\pipwin\\pandas-1.2.0-cp37-cp37m-win_amd64.whl\n",
      "Requirement already satisfied: python-dateutil>=2.7.3 in c:\\users\\flavio.sousa\\appdata\\local\\continuum\\anaconda2\\envs\\py37\\lib\\site-packages (from pandas==1.2.0) (2.8.1)\n",
      "Requirement already satisfied: numpy>=1.16.5 in c:\\users\\flavio.sousa\\appdata\\local\\continuum\\anaconda2\\envs\\py37\\lib\\site-packages (from pandas==1.2.0) (1.19.4+vanilla)\n",
      "Requirement already satisfied: pytz>=2017.3 in c:\\users\\flavio.sousa\\appdata\\local\\continuum\\anaconda2\\envs\\py37\\lib\\site-packages (from pandas==1.2.0) (2019.3)\n",
      "Requirement already satisfied: six>=1.5 in c:\\users\\flavio.sousa\\appdata\\local\\continuum\\anaconda2\\envs\\py37\\lib\\site-packages (from python-dateutil>=2.7.3->pandas==1.2.0) (1.15.0)\n",
      "Installing collected packages: pandas\n",
      "  Attempting uninstall: pandas\n",
      "    Found existing installation: pandas 1.1.5\n",
      "    Uninstalling pandas-1.1.5:\n",
      "      Successfully uninstalled pandas-1.1.5\n",
      "[*] 8.5 MB / 8.5 MB @ 2.7 MB/s [##################] [100%, 0s left]    \n"
     ]
    },
    {
     "name": "stderr",
     "output_type": "stream",
     "text": [
      "ERROR: Could not install packages due to an EnvironmentError: [WinError 5] Acesso negado: 'C:\\\\Users\\\\FLAVIO~1.SOU\\\\AppData\\\\Local\\\\Temp\\\\pip-uninstall-66a71_g6\\\\_libs\\\\algos.cp37-win_amd64.pyd'\n",
      "Consider using the `--user` option or check the permissions.\n",
      "\n",
      "Traceback (most recent call last):\n",
      "  File \"c:\\users\\flavio.sousa\\appdata\\local\\continuum\\anaconda2\\envs\\py37\\lib\\runpy.py\", line 193, in _run_module_as_main\n",
      "    \"__main__\", mod_spec)\n",
      "  File \"c:\\users\\flavio.sousa\\appdata\\local\\continuum\\anaconda2\\envs\\py37\\lib\\runpy.py\", line 85, in _run_code\n",
      "    exec(code, run_globals)\n",
      "  File \"C:\\Users\\flavio.sousa\\AppData\\Local\\Continuum\\anaconda2\\envs\\py37\\Scripts\\pipwin.exe\\__main__.py\", line 7, in <module>\n",
      "  File \"c:\\users\\flavio.sousa\\appdata\\local\\continuum\\anaconda2\\envs\\py37\\lib\\site-packages\\pipwin\\command.py\", line 98, in main\n",
      "    cache.install(package)\n",
      "  File \"c:\\users\\flavio.sousa\\appdata\\local\\continuum\\anaconda2\\envs\\py37\\lib\\site-packages\\pipwin\\pipwin.py\", line 301, in install\n",
      "    subprocess.check_call([executable, \"-m\", \"pip\", \"install\", wheel_file])\n",
      "  File \"c:\\users\\flavio.sousa\\appdata\\local\\continuum\\anaconda2\\envs\\py37\\lib\\subprocess.py\", line 363, in check_call\n",
      "    raise CalledProcessError(retcode, cmd)\n",
      "subprocess.CalledProcessError: Command '['c:\\\\users\\\\flavio.sousa\\\\appdata\\\\local\\\\continuum\\\\anaconda2\\\\envs\\\\py37\\\\python.exe', '-m', 'pip', 'install', 'C:\\\\Users\\\\flavio.sousa\\\\pipwin\\\\pandas-1.2.0-cp37-cp37m-win_amd64.whl']' returned non-zero exit status 1.\n"
     ]
    },
    {
     "name": "stdout",
     "output_type": "stream",
     "text": [
      "Package `shapely` found in cache\n",
      "Downloading package . . .\n",
      "https://download.lfd.uci.edu/pythonlibs/z4tqcw5k/Shapely-1.7.1-cp37-cp37m-win_amd64.whl\n",
      "Shapely-1.7.1-cp37-cp37m-win_amd64.whl\n",
      "[*] 0 bytes / 586 kB @ 0 bytes/s [------------------] [0.0%, 0s left]   [*] 0 bytes / 586 kB @ 0 bytes/s [------------------] [0.0%, 0s left]   [*] 0 bytes / 586 kB @ 0 bytes/s [------------------] [0.0%, 0s left]   [*] 0 bytes / 586 kB @ 0 bytes/s [------------------] [0.0%, 0s left]   [*] 0 bytes / 586 kB @ 0 bytes/s [------------------] [0.0%, 0s left]   [*] 0 bytes / 586 kB @ 0 bytes/s [------------------] [0.0%, 0s left]   [*] 0 bytes / 586 kB @ 0 bytes/s [------------------] [0.0%, 0s left]   [*] 8 kB / 586 kB @ 10 kB/s [------------------] [1.4%, 0s left]  [*] 8 kB / 586 kB @ 9 kB/s [------------------] [1.4%, 0s left]   [*] 40 kB / 586 kB @ 40 kB/s [#-----------------] [6.8%, 0s left]   [*] 120 kB / 586 kB @ 109 kB/s [###---------------] [20.5%, 0s left]  [*] 232 kB / 586 kB @ 193 kB/s [#######-----------] [39.6%, 0s left]  [*] 360 kB / 586 kB @ 277 kB/s [###########-------] [61.4%, 0s left]  [*] 360 kB / 586 kB @ 257 kB/s [###########-------] [61.4%, 0s left]  [*] 552 kB / 586 kB @ 368 kB/s [################--] [94.2%, 0s left]  Processing c:\\users\\flavio.sousa\\pipwin\\shapely-1.7.1-cp37-cp37m-win_amd64.whl\n",
      "Installing collected packages: Shapely\n",
      "Successfully installed Shapely-1.7.1\n",
      "[*] 586 kB / 586 kB @ 368 kB/s [##################] [100%, 0s left]    \n",
      "Package `gdal` found in cache\n",
      "Downloading package . . .\n",
      "https://download.lfd.uci.edu/pythonlibs/z4tqcw5k/GDAL-3.1.4-cp37-cp37m-win_amd64.whl\n",
      "GDAL-3.1.4-cp37-cp37m-win_amd64.whl\n",
      "[*] 0 bytes / 27.9 MB @ 0 bytes/s [------------------] [0.0%, 0s left]  [*] 0 bytes / 27.9 MB @ 0 bytes/s [------------------] [0.0%, 0s left]  [*] 0 bytes / 27.9 MB @ 0 bytes/s [------------------] [0.0%, 0s left]  [*] 0 bytes / 27.9 MB @ 0 bytes/s [------------------] [0.0%, 0s left]  [*] 0 bytes / 27.9 MB @ 0 bytes/s [------------------] [0.0%, 0s left]  [*] 0 bytes / 27.9 MB @ 0 bytes/s [------------------] [0.0%, 0s left]  [*] 0 bytes / 27.9 MB @ 0 bytes/s [------------------] [0.0%, 0s left]  [*] 8 kB / 27.9 MB @ 10 kB/s [------------------] [0.0%, 0s left]   [*] 8 kB / 27.9 MB @ 9 kB/s [------------------] [0.0%, 0s left]  [*] 40 kB / 27.9 MB @ 40 kB/s [------------------] [0.1%, 0s left]  [*] 120 kB / 27.9 MB @ 109 kB/s [------------------] [0.4%, 0s left]  [*] 232 kB / 27.9 MB @ 193 kB/s [------------------] [0.8%, 0s left]  [*] 360 kB / 27.9 MB @ 277 kB/s [------------------] [1.3%, 0s left]  [*] 360 kB / 27.9 MB @ 257 kB/s [------------------] [1.3%, 0s left]  [*] 552 kB / 27.9 MB @ 368 kB/s [------------------] [1.9%, 0s left]  [*] 936 kB / 27.9 MB @ 585 kB/s [------------------] [3.3%, 0s left]  [*] 1.1 MB / 27.9 MB @ 673 kB/s [------------------] [4.0%, 0s left]  [*] 1.3 MB / 27.9 MB @ 716 kB/s [------------------] [4.5%, 0s left]  [*] 1.3 MB / 27.9 MB @ 678 kB/s [------------------] [4.5%, 0s left]  [*] 2.9 MB / 27.9 MB @ 1.4 MB/s [#-----------------] [10.2%, 0s left]   [*] 3.0 MB / 27.9 MB @ 1.4 MB/s [#-----------------] [10.7%, 0s left]   [*] 3.4 MB / 27.9 MB @ 1.5 MB/s [##----------------] [12.2%, 0s left]   [*] 3.9 MB / 27.9 MB @ 1.7 MB/s [##----------------] [14.1%, 0s left]   [*] 4.5 MB / 27.9 MB @ 1.9 MB/s [##----------------] [16.1%, 0s left]   [*] 4.8 MB / 27.9 MB @ 1.9 MB/s [###---------------] [17.1%, 0s left]   [*] 5.1 MB / 27.9 MB @ 2.0 MB/s [###---------------] [18.3%, 0s left]   [*] 5.7 MB / 27.9 MB @ 2.1 MB/s [###---------------] [20.3%, 0s left]   [*] 6.1 MB / 27.9 MB @ 2.2 MB/s [###---------------] [21.7%, 0s left]   [*] 6.1 MB / 27.9 MB @ 2.1 MB/s [###---------------] [21.7%, 0s left]   [*] 6.4 MB / 27.9 MB @ 2.1 MB/s [####--------------] [23.0%, 0s left]   [*] 7.0 MB / 27.9 MB @ 2.3 MB/s [####--------------] [24.9%, 0s left]   [*] 7.3 MB / 27.9 MB @ 2.4 MB/s [####--------------] [26.0%, 0s left]   [*] 7.6 MB / 27.9 MB @ 2.5 MB/s [####--------------] [27.1%, 0s left]   [*] 7.7 MB / 27.9 MB @ 2.6 MB/s [####--------------] [27.7%, 0s left]   [*] 7.9 MB / 27.9 MB @ 2.6 MB/s [#####-------------] [28.2%, 0s left]   [*] 8.2 MB / 27.9 MB @ 2.7 MB/s [#####-------------] [29.3%, 0s left]   [*] 8.5 MB / 27.9 MB @ 2.8 MB/s [#####-------------] [30.4%, 0s left]   [*] 8.8 MB / 27.9 MB @ 2.9 MB/s [#####-------------] [31.6%, 0s left]   [*] 8.9 MB / 27.9 MB @ 3.0 MB/s [#####-------------] [31.7%, 0s left]   [*] 9.1 MB / 27.9 MB @ 3.0 MB/s [#####-------------] [32.7%, 0s left]   [*] 9.5 MB / 27.9 MB @ 3.1 MB/s [######------------] [33.9%, 0s left]   [*] 9.8 MB / 27.9 MB @ 3.2 MB/s [######------------] [35.1%, 0s left]   [*] 10.0 MB / 27.9 MB @ 3.2 MB/s [######------------] [35.8%, 0s left]  [*] 10.2 MB / 27.9 MB @ 3.3 MB/s [######------------] [36.4%, 0s left]  [*] 10.5 MB / 27.9 MB @ 3.3 MB/s [######------------] [37.6%, 0s left]  [*] 10.9 MB / 27.9 MB @ 3.3 MB/s [#######-----------] [39.0%, 0s left]  [*] 11.3 MB / 27.9 MB @ 3.4 MB/s [#######-----------] [40.3%, 0s left]  [*] 11.4 MB / 27.9 MB @ 3.4 MB/s [#######-----------] [40.6%, 0s left]  [*] 11.6 MB / 27.9 MB @ 3.5 MB/s [#######-----------] [41.6%, 0s left]  [*] 12.0 MB / 27.9 MB @ 3.1 MB/s [#######-----------] [43.1%, 0s left]  [*] 12.4 MB / 27.9 MB @ 3.2 MB/s [########----------] [44.5%, 0s left]  [*] 12.7 MB / 27.9 MB @ 3.1 MB/s [########----------] [45.4%, 0s left]  [*] 12.9 MB / 27.9 MB @ 3.0 MB/s [########----------] [46.1%, 0s left]  [*] 13.3 MB / 27.9 MB @ 2.9 MB/s [########----------] [47.6%, 0s left]  [*] 13.7 MB / 27.9 MB @ 3.0 MB/s [########----------] [49.2%, 0s left]  [*] 14.2 MB / 27.9 MB @ 3.0 MB/s [#########---------] [50.8%, 0s left]  [*] 14.3 MB / 27.9 MB @ 2.9 MB/s [#########---------] [51.3%, 6s left]  [*] 14.7 MB / 27.9 MB @ 2.9 MB/s [#########---------] [52.5%, 6s left]  [*] 15.1 MB / 27.9 MB @ 3.0 MB/s [#########---------] [54.2%, 6s left]  [*] 15.6 MB / 27.9 MB @ 3.1 MB/s [##########--------] [55.9%, 6s left]  [*] 15.9 MB / 27.9 MB @ 3.0 MB/s [##########--------] [57.0%, 6s left]  [*] 16.2 MB / 27.9 MB @ 3.0 MB/s [##########--------] [57.9%, 6s left]  [*] 16.6 MB / 27.9 MB @ 3.0 MB/s [##########--------] [59.6%, 6s left]  [*] 17.2 MB / 27.9 MB @ 3.1 MB/s [###########-------] [61.4%, 6s left]  [*] 17.7 MB / 27.9 MB @ 3.3 MB/s [###########-------] [63.2%, 6s left]  [*] 17.9 MB / 27.9 MB @ 3.2 MB/s [###########-------] [64.2%, 6s left]  [*] 18.3 MB / 27.9 MB @ 3.3 MB/s [###########-------] [65.4%, 4s left]  [*] 18.8 MB / 27.9 MB @ 3.3 MB/s [############------] [67.4%, 4s left]  [*] 19.1 MB / 27.9 MB @ 3.4 MB/s [############------] [68.2%, 4s left]  [*] 19.1 MB / 27.9 MB @ 3.3 MB/s [############------] [68.2%, 4s left]  [*] 19.8 MB / 27.9 MB @ 3.4 MB/s [############------] [70.8%, 4s left]  [*] 20.0 MB / 27.9 MB @ 3.4 MB/s [############------] [71.5%, 4s left]  [*] 20.3 MB / 27.9 MB @ 3.4 MB/s [#############-----] [72.6%, 4s left]  [*] 20.5 MB / 27.9 MB @ 3.5 MB/s [#############-----] [73.5%, 4s left]  [*] 20.8 MB / 27.9 MB @ 3.4 MB/s [#############-----] [74.5%, 4s left]  [*] 20.9 MB / 27.9 MB @ 3.3 MB/s [#############-----] [74.7%, 4s left]  [*] 21.2 MB / 27.9 MB @ 3.3 MB/s [#############-----] [75.9%, 3s left]  [*] 21.5 MB / 27.9 MB @ 3.4 MB/s [#############-----] [77.0%, 3s left]  [*] 21.8 MB / 27.9 MB @ 3.4 MB/s [##############----] [77.9%, 3s left]  [*] 22.0 MB / 27.9 MB @ 3.3 MB/s [##############----] [78.7%, 3s left]  [*] 22.2 MB / 27.9 MB @ 3.2 MB/s [##############----] [79.3%, 3s left]  [*] 22.5 MB / 27.9 MB @ 3.3 MB/s [##############----] [80.6%, 3s left]  [*] 22.8 MB / 27.9 MB @ 3.3 MB/s [##############----] [81.7%, 3s left]  [*] 23.1 MB / 27.9 MB @ 3.3 MB/s [##############----] [82.8%, 3s left]  [*] 23.3 MB / 27.9 MB @ 3.2 MB/s [##############----] [83.3%, 3s left]  [*] 23.6 MB / 27.9 MB @ 3.1 MB/s [###############---] [84.4%, 3s left]  [*] 24.0 MB / 27.9 MB @ 3.2 MB/s [###############---] [85.8%, 2s left]  [*] 24.3 MB / 27.9 MB @ 3.2 MB/s [###############---] [86.8%, 2s left]  [*] 24.6 MB / 27.9 MB @ 3.2 MB/s [###############---] [88.0%, 2s left]  [*] 24.8 MB / 27.9 MB @ 3.0 MB/s [###############---] [88.6%, 2s left]  [*] 25.2 MB / 27.9 MB @ 3.1 MB/s [################--] [90.1%, 2s left]  [*] 25.6 MB / 27.9 MB @ 3.1 MB/s [################--] [91.6%, 2s left]  [*] 25.9 MB / 27.9 MB @ 3.1 MB/s [################--] [92.8%, 2s left]  [*] 26.1 MB / 27.9 MB @ 3.0 MB/s [################--] [93.5%, 2s left]  [*] 26.5 MB / 27.9 MB @ 2.9 MB/s [#################-] [94.8%, 2s left]  [*] 26.9 MB / 27.9 MB @ 3.0 MB/s [#################-] [96.4%, 2s left]  [*] 27.3 MB / 27.9 MB @ 3.0 MB/s [#################-] [97.7%, 1s left]  [*] 27.7 MB / 27.9 MB @ 2.9 MB/s [#################-] [99.1%, 1s left]  [*] 27.9 MB / 27.9 MB @ 2.9 MB/s [#################-] [99.8%, 1s left]  Processing c:\\users\\flavio.sousa\\pipwin\\gdal-3.1.4-cp37-cp37m-win_amd64.whl\n",
      "Installing collected packages: GDAL\n",
      "Successfully installed GDAL-3.1.4\n",
      "[*] 27.9 MB / 27.9 MB @ 2.9 MB/s [##################] [100%, 0s left]    \n"
     ]
    },
    {
     "name": "stdout",
     "output_type": "stream",
     "text": [
      "Package `fiona` found in cache\n",
      "Downloading package . . .\n",
      "https://download.lfd.uci.edu/pythonlibs/z4tqcw5k/Fiona-1.8.18-cp37-cp37m-win_amd64.whl\n",
      "Fiona-1.8.18-cp37-cp37m-win_amd64.whl\n",
      "[*] 0 bytes / 522 kB @ 0 bytes/s [------------------] [0.0%, 0s left]   [*] 0 bytes / 522 kB @ 0 bytes/s [------------------] [0.0%, 0s left]   [*] 0 bytes / 522 kB @ 0 bytes/s [------------------] [0.0%, 0s left]   [*] 0 bytes / 522 kB @ 0 bytes/s [------------------] [0.0%, 0s left]   [*] 0 bytes / 522 kB @ 0 bytes/s [------------------] [0.0%, 0s left]   [*] 0 bytes / 522 kB @ 0 bytes/s [------------------] [0.0%, 0s left]   [*] 0 bytes / 522 kB @ 0 bytes/s [------------------] [0.0%, 0s left]   [*] 0 bytes / 522 kB @ 0 bytes/s [------------------] [0.0%, 0s left]   [*] 0 bytes / 522 kB @ 0 bytes/s [------------------] [0.0%, 0s left]   [*] 0 bytes / 522 kB @ 0 bytes/s [------------------] [0.0%, 0s left]   [*] 8 kB / 522 kB @ 7 kB/s [------------------] [1.5%, 0s left]   [*] 40 kB / 522 kB @ 33 kB/s [#-----------------] [7.7%, 0s left]   [*] 40 kB / 522 kB @ 31 kB/s [#-----------------] [7.7%, 0s left]   [*] 120 kB / 522 kB @ 86 kB/s [####--------------] [23.0%, 0s left]   [*] 232 kB / 522 kB @ 155 kB/s [########----------] [44.5%, 0s left]  [*] 424 kB / 522 kB @ 265 kB/s [##############----] [81.3%, 0s left]  Processing c:\\users\\flavio.sousa\\pipwin\\fiona-1.8.18-cp37-cp37m-win_amd64.whl\n",
      "Requirement already satisfied: gdal~=3.1.2 in c:\\users\\flavio.sousa\\appdata\\local\\continuum\\anaconda2\\envs\\py37\\lib\\site-packages (from Fiona==1.8.18) (3.1.4)\n",
      "Requirement already satisfied: click<8,>=4.0 in c:\\users\\flavio.sousa\\appdata\\local\\continuum\\anaconda2\\envs\\py37\\lib\\site-packages (from Fiona==1.8.18) (7.1.2)\n",
      "Requirement already satisfied: attrs>=17 in c:\\users\\flavio.sousa\\appdata\\local\\continuum\\anaconda2\\envs\\py37\\lib\\site-packages (from Fiona==1.8.18) (20.3.0)\n",
      "Requirement already satisfied: certifi in c:\\users\\flavio.sousa\\appdata\\local\\continuum\\anaconda2\\envs\\py37\\lib\\site-packages (from Fiona==1.8.18) (2020.12.5)\n",
      "Requirement already satisfied: six>=1.7 in c:\\users\\flavio.sousa\\appdata\\local\\continuum\\anaconda2\\envs\\py37\\lib\\site-packages (from Fiona==1.8.18) (1.15.0)\n",
      "Collecting click-plugins>=1.0\n",
      "  Downloading click_plugins-1.1.1-py2.py3-none-any.whl (7.5 kB)\n",
      "Collecting cligj>=0.5\n",
      "  Downloading cligj-0.7.1-py3-none-any.whl (7.1 kB)\n",
      "Collecting munch\n",
      "  Downloading munch-2.5.0-py2.py3-none-any.whl (10 kB)\n",
      "Installing collected packages: munch, cligj, click-plugins, Fiona\n",
      "Successfully installed Fiona-1.8.18 click-plugins-1.1.1 cligj-0.7.1 munch-2.5.0\n",
      "[*] 522 kB / 522 kB @ 265 kB/s [##################] [100%, 0s left]    \n",
      "Package `pyproj` found in cache\n",
      "Downloading package . . .\n",
      "https://download.lfd.uci.edu/pythonlibs/z4tqcw5k/pyproj-3.0.0.post1-cp37-cp37m-win_amd64.whl\n",
      "pyproj-3.0.0.post1-cp37-cp37m-win_amd64.whl\n",
      "[*] 0 bytes / 13.7 MB @ 0 bytes/s [------------------] [0.0%, 0s left]  [*] 0 bytes / 13.7 MB @ 0 bytes/s [------------------] [0.0%, 0s left]  [*] 0 bytes / 13.7 MB @ 0 bytes/s [------------------] [0.0%, 0s left]  [*] 0 bytes / 13.7 MB @ 0 bytes/s [------------------] [0.0%, 0s left]  [*] 0 bytes / 13.7 MB @ 0 bytes/s [------------------] [0.0%, 0s left]  [*] 0 bytes / 13.7 MB @ 0 bytes/s [------------------] [0.0%, 0s left]  [*] 0 bytes / 13.7 MB @ 0 bytes/s [------------------] [0.0%, 0s left]  [*] 8 kB / 13.7 MB @ 10 kB/s [------------------] [0.1%, 0s left]   [*] 8 kB / 13.7 MB @ 9 kB/s [------------------] [0.1%, 0s left]  [*] 40 kB / 13.7 MB @ 40 kB/s [------------------] [0.3%, 0s left]  [*] 104 kB / 13.7 MB @ 95 kB/s [------------------] [0.7%, 0s left]   [*] 232 kB / 13.7 MB @ 193 kB/s [------------------] [1.7%, 0s left]  [*] 344 kB / 13.7 MB @ 265 kB/s [------------------] [2.4%, 0s left]  [*] 360 kB / 13.7 MB @ 257 kB/s [------------------] [2.6%, 0s left]  [*] 552 kB / 13.7 MB @ 368 kB/s [------------------] [3.9%, 0s left]  [*] 936 kB / 13.7 MB @ 585 kB/s [#-----------------] [6.7%, 0s left]  [*] 1.1 MB / 13.7 MB @ 645 kB/s [#-----------------] [7.8%, 0s left]  [*] 1.1 MB / 13.7 MB @ 636 kB/s [#-----------------] [8.1%, 0s left]  [*] 1.2 MB / 13.7 MB @ 669 kB/s [#-----------------] [9.1%, 0s left]  [*] 2.5 MB / 13.7 MB @ 1.2 MB/s [###---------------] [18.1%, 0s left]   [*] 2.9 MB / 13.7 MB @ 1.4 MB/s [###---------------] [20.8%, 0s left]   [*] 3.0 MB / 13.7 MB @ 1.4 MB/s [###---------------] [22.2%, 0s left]   [*] 3.4 MB / 13.7 MB @ 1.5 MB/s [####--------------] [25.1%, 0s left]   [*] 3.9 MB / 13.7 MB @ 1.6 MB/s [#####-------------] [28.7%, 0s left]   [*] 4.4 MB / 13.7 MB @ 1.8 MB/s [#####-------------] [32.1%, 0s left]   [*] 4.6 MB / 13.7 MB @ 1.8 MB/s [######------------] [33.8%, 0s left]   [*] 4.9 MB / 13.7 MB @ 1.8 MB/s [######------------] [35.6%, 0s left]   [*] 5.4 MB / 13.7 MB @ 1.9 MB/s [#######-----------] [39.3%, 0s left]   [*] 5.9 MB / 13.7 MB @ 2.0 MB/s [#######-----------] [42.8%, 0s left]   [*] 6.2 MB / 13.7 MB @ 2.1 MB/s [########----------] [45.5%, 0s left]   [*] 6.5 MB / 13.7 MB @ 2.2 MB/s [########----------] [47.1%, 0s left]   [*] 6.8 MB / 13.7 MB @ 2.3 MB/s [########----------] [49.9%, 0s left]   [*] 7.3 MB / 13.7 MB @ 2.4 MB/s [#########---------] [53.5%, 0s left]   [*] 7.8 MB / 13.7 MB @ 2.6 MB/s [##########--------] [57.0%, 0s left]   [*] 8.1 MB / 13.7 MB @ 2.7 MB/s [##########--------] [59.0%, 0s left]   [*] 8.3 MB / 13.7 MB @ 2.8 MB/s [##########--------] [60.7%, 0s left]   [*] 8.8 MB / 13.7 MB @ 2.9 MB/s [###########-------] [64.3%, 0s left]   [*] 9.3 MB / 13.7 MB @ 3.1 MB/s [############------] [68.0%, 0s left]   [*] 9.7 MB / 13.7 MB @ 3.2 MB/s [############------] [70.9%, 0s left]   [*] 9.9 MB / 13.7 MB @ 3.3 MB/s [#############-----] [72.5%, 0s left]   [*] 10.3 MB / 13.7 MB @ 3.4 MB/s [#############-----] [75.2%, 0s left]  [*] 10.8 MB / 13.7 MB @ 3.5 MB/s [##############----] [78.8%, 0s left]  [*] 11.3 MB / 13.7 MB @ 3.7 MB/s [##############----] [82.6%, 0s left]  [*] 11.6 MB / 13.7 MB @ 3.7 MB/s [###############---] [84.5%, 0s left]  [*] 11.8 MB / 13.7 MB @ 3.8 MB/s [###############---] [86.3%, 0s left]  [*] 12.3 MB / 13.7 MB @ 3.8 MB/s [################--] [89.9%, 0s left]  [*] 12.8 MB / 13.7 MB @ 3.9 MB/s [################--] [93.5%, 0s left]  [*] 13.3 MB / 13.7 MB @ 4.0 MB/s [#################-] [96.7%, 0s left]  [*] 13.5 MB / 13.7 MB @ 4.1 MB/s [#################-] [98.4%, 0s left]  Processing c:\\users\\flavio.sousa\\pipwin\\pyproj-3.0.0.post1-cp37-cp37m-win_amd64.whl\n",
      "Requirement already satisfied: certifi in c:\\users\\flavio.sousa\\appdata\\local\\continuum\\anaconda2\\envs\\py37\\lib\\site-packages (from pyproj==3.0.0.post1) (2020.12.5)\n",
      "Installing collected packages: pyproj\n",
      "Successfully installed pyproj-3.0.0.post1\n",
      "[*] 13.7 MB / 13.7 MB @ 4.1 MB/s [##################] [100%, 0s left]    \n",
      "Package `six` found in cache\n",
      "Downloading package . . .\n",
      "https://download.lfd.uci.edu/pythonlibs/z4tqcw5k/six-1.15.0-py3-none-any.whl\n",
      "six-1.15.0-py3-none-any.whl\n",
      "[*] 0 bytes / 11 kB @ 0 bytes/s [------------------] [0.0%, 0s left]  [*] 0 bytes / 11 kB @ 0 bytes/s [------------------] [0.0%, 0s left]  [*] 0 bytes / 11 kB @ 0 bytes/s [------------------] [0.0%, 0s left]  [*] 0 bytes / 11 kB @ 0 bytes/s [------------------] [0.0%, 0s left]  [*] 0 bytes / 11 kB @ 0 bytes/s [------------------] [0.0%, 0s left]  [*] 0 bytes / 11 kB @ 0 bytes/s [------------------] [0.0%, 0s left]  [*] 0 bytes / 11 kB @ 0 bytes/s [------------------] [0.0%, 0s left]  Processing c:\\users\\flavio.sousa\\pipwin\\six-1.15.0-py3-none-any.whl\n",
      "six is already installed with the same version as the provided wheel. Use --force-reinstall to force an installation of the wheel.\n",
      "[*] 11 kB / 11 kB @ 0 bytes/s [##################] [100%, 0s left]    \n",
      "Package `rtree` found in cache\n",
      "Downloading package . . .\n",
      "https://download.lfd.uci.edu/pythonlibs/z4tqcw5k/Rtree-0.9.7-cp37-cp37m-win_amd64.whl\n",
      "Rtree-0.9.7-cp37-cp37m-win_amd64.whl\n",
      "[*] 0 bytes / 273 kB @ 0 bytes/s [------------------] [0.0%, 0s left]   [*] 0 bytes / 273 kB @ 0 bytes/s [------------------] [0.0%, 0s left]   [*] 0 bytes / 273 kB @ 0 bytes/s [------------------] [0.0%, 0s left]   [*] 0 bytes / 273 kB @ 0 bytes/s [------------------] [0.0%, 0s left]   [*] 0 bytes / 273 kB @ 0 bytes/s [------------------] [0.0%, 0s left]   [*] 0 bytes / 273 kB @ 0 bytes/s [------------------] [0.0%, 0s left]   [*] 0 bytes / 273 kB @ 0 bytes/s [------------------] [0.0%, 0s left]   [*] 8 kB / 273 kB @ 10 kB/s [------------------] [2.9%, 0s left]  [*] 8 kB / 273 kB @ 9 kB/s [------------------] [2.9%, 0s left]   [*] 40 kB / 273 kB @ 40 kB/s [##----------------] [14.7%, 0s left]  [*] 120 kB / 273 kB @ 109 kB/s [#######-----------] [44.0%, 0s left]  [*] 232 kB / 273 kB @ 193 kB/s [###############---] [85.0%, 0s left]  [*] 232 kB / 273 kB @ 178 kB/s [###############---] [85.0%, 0s left]  Processing c:\\users\\flavio.sousa\\pipwin\\rtree-0.9.7-cp37-cp37m-win_amd64.whl\n",
      "Installing collected packages: Rtree\n",
      "Successfully installed Rtree-0.9.7\n",
      "[*] 273 kB / 273 kB @ 178 kB/s [##################] [100%, 0s left]    \n"
     ]
    },
    {
     "name": "stdout",
     "output_type": "stream",
     "text": [
      "Package `geopandas` found in cache\n",
      "Downloading package . . .\n",
      "https://download.lfd.uci.edu/pythonlibs/z4tqcw5k/geopandas-0.8.1-py3-none-any.whl\n",
      "geopandas-0.8.1-py3-none-any.whl\n",
      "[*] 0 bytes / 940 kB @ 0 bytes/s [------------------] [0.0%, 0s left]   \b\b\b\b\b\b\b\b\b\b\b\b\b\b\b\b\b\b\b\b\b\b\b\b\b\b\b\b\b\b\b\b\b\b\b\b\b\b\b\b\b\b\b\b\b\b\b\b\b\b\b\b\b\b\b\b\b\b\b\b\b\b\b\b\b\b\b\b\b\b\b\b\b [*] 0 bytes / 940 kB @ 0 bytes/s [------------------] [0.0%, 0s left]   \b\b\b\b\b\b\b\b\b\b\b\b\b\b\b\b\b\b\b\b\b\b\b\b\b\b\b\b\b\b\b\b\b\b\b\b\b\b\b\b\b\b\b\b\b\b\b\b\b\b\b\b\b\b\b\b\b\b\b\b\b\b\b\b\b\b\b\b\b\b\b\b\b [*] 0 bytes / 940 kB @ 0 bytes/s [------------------] [0.0%, 0s left]   \b\b\b\b\b\b\b\b\b\b\b\b\b\b\b\b\b\b\b\b\b\b\b\b\b\b\b\b\b\b\b\b\b\b\b\b\b\b\b\b\b\b\b\b\b\b\b\b\b\b\b\b\b\b\b\b\b\b\b\b\b\b\b\b\b\b\b\b\b\b\b\b\b [*] 0 bytes / 940 kB @ 0 bytes/s [------------------] [0.0%, 0s left]   \b\b\b\b\b\b\b\b\b\b\b\b\b\b\b\b\b\b\b\b\b\b\b\b\b\b\b\b\b\b\b\b\b\b\b\b\b\b\b\b\b\b\b\b\b\b\b\b\b\b\b\b\b\b\b\b\b\b\b\b\b\b\b\b\b\b\b\b\b\b\b\b\b [*] 0 bytes / 940 kB @ 0 bytes/s [------------------] [0.0%, 0s left]   \b\b\b\b\b\b\b\b\b\b\b\b\b\b\b\b\b\b\b\b\b\b\b\b\b\b\b\b\b\b\b\b\b\b\b\b\b\b\b\b\b\b\b\b\b\b\b\b\b\b\b\b\b\b\b\b\b\b\b\b\b\b\b\b\b\b\b\b\b\b\b\b\b [*] 0 bytes / 940 kB @ 0 bytes/s [------------------] [0.0%, 0s left]   \b\b\b\b\b\b\b\b\b\b\b\b\b\b\b\b\b\b\b\b\b\b\b\b\b\b\b\b\b\b\b\b\b\b\b\b\b\b\b\b\b\b\b\b\b\b\b\b\b\b\b\b\b\b\b\b\b\b\b\b\b\b\b\b\b\b\b\b\b\b\b\b\b [*] 0 bytes / 940 kB @ 0 bytes/s [------------------] [0.0%, 0s left]   \b\b\b\b\b\b\b\b\b\b\b\b\b\b\b\b\b\b\b\b\b\b\b\b\b\b\b\b\b\b\b\b\b\b\b\b\b\b\b\b\b\b\b\b\b\b\b\b\b\b\b\b\b\b\b\b\b\b\b\b\b\b\b\b\b\b\b\b\b\b\b\b\b [*] 8 kB / 940 kB @ 10 kB/s [------------------] [0.9%, 0s left]   \b\b\b\b\b\b\b\b\b\b\b\b\b\b\b\b\b\b\b\b\b\b\b\b\b\b\b\b\b\b\b\b\b\b\b\b\b\b\b\b\b\b\b\b\b\b\b\b\b\b\b\b\b\b\b\b\b\b\b\b\b\b\b\b\b\b\b\b [*] 8 kB / 940 kB @ 9 kB/s [------------------] [0.9%, 0s left]   \b\b\b\b\b\b\b\b\b\b\b\b\b\b\b\b\b\b\b\b\b\b\b\b\b\b\b\b\b\b\b\b\b\b\b\b\b\b\b\b\b\b\b\b\b\b\b\b\b\b\b\b\b\b\b\b\b\b\b\b\b\b\b\b\b\b\b [*] 40 kB / 940 kB @ 40 kB/s [------------------] [4.3%, 0s left]   \b\b\b\b\b\b\b\b\b\b\b\b\b\b\b\b\b\b\b\b\b\b\b\b\b\b\b\b\b\b\b\b\b\b\b\b\b\b\b\b\b\b\b\b\b\b\b\b\b\b\b\b\b\b\b\b\b\b\b\b\b\b\b\b\b\b\b\b\b [*] 120 kB / 940 kB @ 109 kB/s [##----------------] [12.8%, 0s left]   \b\b\b\b\b\b\b\b\b\b\b\b\b\b\b\b\b\b\b\b\b\b\b\b\b\b\b\b\b\b\b\b\b\b\b\b\b\b\b\b\b\b\b\b\b\b\b\b\b\b\b\b\b\b\b\b\b\b\b\b\b\b\b\b\b\b\b\b\b\b\b\b [*] 232 kB / 940 kB @ 193 kB/s [####--------------] [24.7%, 0s left]   \b\b\b\b\b\b\b\b\b\b\b\b\b\b\b\b\b\b\b\b\b\b\b\b\b\b\b\b\b\b\b\b\b\b\b\b\b\b\b\b\b\b\b\b\b\b\b\b\b\b\b\b\b\b\b\b\b\b\b\b\b\b\b\b\b\b\b\b\b\b\b\b [*] 360 kB / 940 kB @ 277 kB/s [######------------] [38.3%, 0s left]   \b\b\b\b\b\b\b\b\b\b\b\b\b\b\b\b\b\b\b\b\b\b\b\b\b\b\b\b\b\b\b\b\b\b\b\b\b\b\b\b\b\b\b\b\b\b\b\b\b\b\b\b\b\b\b\b\b\b\b\b\b\b\b\b\b\b\b\b\b\b\b\b [*] 360 kB / 940 kB @ 257 kB/s [######------------] [38.3%, 0s left]   \b\b\b\b\b\b\b\b\b\b\b\b\b\b\b\b\b\b\b\b\b\b\b\b\b\b\b\b\b\b\b\b\b\b\b\b\b\b\b\b\b\b\b\b\b\b\b\b\b\b\b\b\b\b\b\b\b\b\b\b\b\b\b\b\b\b\b\b\b\b\b\b [*] 552 kB / 940 kB @ 368 kB/s [##########--------] [58.7%, 0s left]   \b\b\b\b\b\b\b\b\b\b\b\b\b\b\b\b\b\b\b\b\b\b\b\b\b\b\b\b\b\b\b\b\b\b\b\b\b\b\b\b\b\b\b\b\b\b\b\b\b\b\b\b\b\b\b\b\b\b\b\b\b\b\b\b\b\b\b\b\b\b\b\b [*] 920 kB / 940 kB @ 575 kB/s [#################-] [97.8%, 0s left]   \b\b\b\b\b\b\b\b\b\b\b\b\b\b\b\b\b\b\b\b\b\b\b\b\b\b\b\b\b\b\b\b\b\b\b\b\b\b\b\b\b\b\b\b\b\b\b\b\b\b\b\b\b\b\b\b\b\b\b\b\b\b\b\b\b\b\b\b\b\b\b\b Processing c:\\users\\flavio.sousa\\pipwin\\geopandas-0.8.1-py3-none-any.whl\n",
      "Requirement already satisfied: pandas>=0.23.0 in c:\\users\\flavio.sousa\\appdata\\local\\continuum\\anaconda2\\envs\\py37\\lib\\site-packages (from geopandas==0.8.1) (1.2.0)\n",
      "Requirement already satisfied: fiona in c:\\users\\flavio.sousa\\appdata\\local\\continuum\\anaconda2\\envs\\py37\\lib\\site-packages (from geopandas==0.8.1) (1.8.18)\n",
      "Requirement already satisfied: pyproj>=2.2.0 in c:\\users\\flavio.sousa\\appdata\\local\\continuum\\anaconda2\\envs\\py37\\lib\\site-packages (from geopandas==0.8.1) (3.0.0.post1)\n",
      "Requirement already satisfied: shapely in c:\\users\\flavio.sousa\\appdata\\local\\continuum\\anaconda2\\envs\\py37\\lib\\site-packages (from geopandas==0.8.1) (1.7.1)\n",
      "Requirement already satisfied: pytz>=2017.3 in c:\\users\\flavio.sousa\\appdata\\local\\continuum\\anaconda2\\envs\\py37\\lib\\site-packages (from pandas>=0.23.0->geopandas==0.8.1) (2019.3)\n",
      "Requirement already satisfied: python-dateutil>=2.7.3 in c:\\users\\flavio.sousa\\appdata\\local\\continuum\\anaconda2\\envs\\py37\\lib\\site-packages (from pandas>=0.23.0->geopandas==0.8.1) (2.8.1)\n",
      "Requirement already satisfied: numpy>=1.16.5 in c:\\users\\flavio.sousa\\appdata\\local\\continuum\\anaconda2\\envs\\py37\\lib\\site-packages (from pandas>=0.23.0->geopandas==0.8.1) (1.19.4+vanilla)\n",
      "Requirement already satisfied: certifi in c:\\users\\flavio.sousa\\appdata\\local\\continuum\\anaconda2\\envs\\py37\\lib\\site-packages (from pyproj>=2.2.0->geopandas==0.8.1) (2020.12.5)\n",
      "Requirement already satisfied: six>=1.5 in c:\\users\\flavio.sousa\\appdata\\local\\continuum\\anaconda2\\envs\\py37\\lib\\site-packages (from python-dateutil>=2.7.3->pandas>=0.23.0->geopandas==0.8.1) (1.15.0)\n",
      "Requirement already satisfied: cligj>=0.5 in c:\\users\\flavio.sousa\\appdata\\local\\continuum\\anaconda2\\envs\\py37\\lib\\site-packages (from fiona->geopandas==0.8.1) (0.7.1)\n",
      "Requirement already satisfied: attrs>=17 in c:\\users\\flavio.sousa\\appdata\\local\\continuum\\anaconda2\\envs\\py37\\lib\\site-packages (from fiona->geopandas==0.8.1) (20.3.0)\n",
      "Requirement already satisfied: gdal~=3.1.2 in c:\\users\\flavio.sousa\\appdata\\local\\continuum\\anaconda2\\envs\\py37\\lib\\site-packages (from fiona->geopandas==0.8.1) (3.1.4)\n",
      "Requirement already satisfied: click<8,>=4.0 in c:\\users\\flavio.sousa\\appdata\\local\\continuum\\anaconda2\\envs\\py37\\lib\\site-packages (from fiona->geopandas==0.8.1) (7.1.2)\n",
      "Requirement already satisfied: munch in c:\\users\\flavio.sousa\\appdata\\local\\continuum\\anaconda2\\envs\\py37\\lib\\site-packages (from fiona->geopandas==0.8.1) (2.5.0)\n",
      "Requirement already satisfied: click-plugins>=1.0 in c:\\users\\flavio.sousa\\appdata\\local\\continuum\\anaconda2\\envs\\py37\\lib\\site-packages (from fiona->geopandas==0.8.1) (1.1.1)\n",
      "Installing collected packages: geopandas\n",
      "Successfully installed geopandas-0.8.1\n",
      "[*] 940 kB / 940 kB @ 575 kB/s [##################] [100%, 0s left]    \n"
     ]
    }
   ],
   "source": [
    "!pip install wheel\n",
    "!pip install pipwin\n",
    "!pipwin install numpy\n",
    "!pipwin install pandas\n",
    "!pipwin install shapely\n",
    "!pipwin install gdal\n",
    "!pipwin install fiona\n",
    "!pipwin install pyproj\n",
    "!pipwin install six\n",
    "!pipwin install rtree\n",
    "!pipwin install geopandas\n",
    "!pip install keplergl #PRECISA DOS PACOTES ACIMA"
   ]
  }
 ],
 "metadata": {
  "kernelspec": {
   "display_name": "Python 3",
   "language": "python",
   "name": "python3"
  },
  "language_info": {
   "codemirror_mode": {
    "name": "ipython",
    "version": 3
   },
   "file_extension": ".py",
   "mimetype": "text/x-python",
   "name": "python",
   "nbconvert_exporter": "python",
   "pygments_lexer": "ipython3",
   "version": "3.7.9"
  }
 },
 "nbformat": 4,
 "nbformat_minor": 4
}
